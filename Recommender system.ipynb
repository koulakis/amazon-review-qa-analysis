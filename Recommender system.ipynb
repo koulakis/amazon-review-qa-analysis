{
 "cells": [
  {
   "cell_type": "markdown",
   "metadata": {},
   "source": [
    "## Loading and indexing the data for training"
   ]
  },
  {
   "cell_type": "code",
   "execution_count": 83,
   "metadata": {
    "collapsed": true
   },
   "outputs": [],
   "source": [
    "reviews = (spark\n",
    "    .read\n",
    "    .json('./data/raw_data/reviews_Musical_Instruments_5.json.gz'))"
   ]
  },
  {
   "cell_type": "code",
   "execution_count": 84,
   "metadata": {},
   "outputs": [],
   "source": [
    "from pyspark.ml.feature import StringIndexer\n",
    "from pyspark.ml import Pipeline\n",
    "\n",
    "indexing_pipeline = Pipeline(stages=[\n",
    "    StringIndexer(inputCol=\"reviewerID\", outputCol=\"reviewerIndex\"),\n",
    "    StringIndexer(inputCol=\"asin\", outputCol=\"asinIndex\")\n",
    "])\n",
    "\n",
    "indexed_reviews = indexing_pipeline.fit(reviews).transform(reviews)"
   ]
  },
  {
   "cell_type": "code",
   "execution_count": 110,
   "metadata": {},
   "outputs": [],
   "source": [
    "(train, _, test) = indexed_reviews.randomSplit([.6, .2, .2], seed=1800009193L)"
   ]
  },
  {
   "cell_type": "markdown",
   "metadata": {},
   "source": [
    "## Evaluator"
   ]
  },
  {
   "cell_type": "code",
   "execution_count": 122,
   "metadata": {
    "collapsed": true
   },
   "outputs": [],
   "source": [
    "from pyspark.ml.evaluation import RegressionEvaluator\n",
    "\n",
    "evaluator = RegressionEvaluator(\n",
    "    predictionCol=\"prediction\", \n",
    "    labelCol=\"overall\", \n",
    "    metricName=\"rmse\")"
   ]
  },
  {
   "cell_type": "markdown",
   "metadata": {},
   "source": [
    "## Benchmark: predict by distribution"
   ]
  },
  {
   "cell_type": "code",
   "execution_count": 123,
   "metadata": {},
   "outputs": [
    {
     "name": "stdout",
     "output_type": "stream",
     "text": [
      "The RMSE of always predicting 4.4999187124 stars is 0.894400260161\n"
     ]
    }
   ],
   "source": [
    "from pyspark.sql.functions import lit\n",
    "\n",
    "average_rating = (train\n",
    "    .groupBy()\n",
    "    .avg('overall')\n",
    "    .collect()[0][0])\n",
    "\n",
    "average_rating_prediction = test.withColumn('prediction', lit(average_rating))\n",
    "\n",
    "average_rating_evaluation = evaluator.evaluate(average_rating_prediction)\n",
    "\n",
    "print('The RMSE of always predicting {0} stars is {1}'.format(average_rating, average_rating_evaluation))"
   ]
  },
  {
   "cell_type": "markdown",
   "metadata": {},
   "source": [
    "## Recommender system"
   ]
  },
  {
   "cell_type": "code",
   "execution_count": 111,
   "metadata": {},
   "outputs": [],
   "source": [
    "from pyspark.ml.recommendation import ALS\n",
    "\n",
    "als = ALS(\n",
    "        maxIter=5,\n",
    "        regParam=.1,\n",
    "        userCol='reviewerIndex',\n",
    "        itemCol='asinIndex',\n",
    "        ratingCol='overall',\n",
    "        rank=24,        \n",
    "        seed=1800009193L)"
   ]
  },
  {
   "cell_type": "markdown",
   "metadata": {},
   "source": [
    "## Evaluating the model"
   ]
  },
  {
   "cell_type": "code",
   "execution_count": 112,
   "metadata": {
    "collapsed": true
   },
   "outputs": [],
   "source": [
    "model = als.fit(train)"
   ]
  },
  {
   "cell_type": "code",
   "execution_count": 113,
   "metadata": {
    "collapsed": true
   },
   "outputs": [],
   "source": [
    "predictions = model.transform(test)"
   ]
  },
  {
   "cell_type": "code",
   "execution_count": 125,
   "metadata": {},
   "outputs": [
    {
     "name": "stdout",
     "output_type": "stream",
     "text": [
      "The RMSE of the recommender system is 1.98658845486\n"
     ]
    }
   ],
   "source": [
    "evaluation = evaluator.evaluate(predictions.filter(col('prediction') != float('nan')))\n",
    "\n",
    "print('The RMSE of the recommender system is {0}'.format(evaluation))"
   ]
  }
 ],
 "metadata": {
  "kernelspec": {
   "display_name": "Python 2",
   "language": "python",
   "name": "python2"
  },
  "language_info": {
   "codemirror_mode": {
    "name": "ipython",
    "version": 2
   },
   "file_extension": ".py",
   "mimetype": "text/x-python",
   "name": "python",
   "nbconvert_exporter": "python",
   "pygments_lexer": "ipython2",
   "version": "2.7.13"
  }
 },
 "nbformat": 4,
 "nbformat_minor": 2
}
