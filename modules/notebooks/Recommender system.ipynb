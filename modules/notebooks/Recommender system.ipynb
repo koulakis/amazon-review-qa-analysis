{
 "cells": [
  {
   "cell_type": "markdown",
   "metadata": {},
   "source": [
    "## Loading and indexing the data for training"
   ]
  },
  {
   "cell_type": "code",
   "execution_count": 2,
   "metadata": {
    "collapsed": true
   },
   "outputs": [],
   "source": [
    "# all_reviews = (spark\n",
    "#     .read\n",
    "#     .json('../../data/raw_data/reviews_Musical_Instruments_5.json.gz'))"
   ]
  },
  {
   "cell_type": "code",
   "execution_count": 4,
   "metadata": {
    "collapsed": true
   },
   "outputs": [],
   "source": [
    "from pyspark.sql.functions import col, expr, udf, trim\n",
    "from pyspark.sql.types import IntegerType\n",
    "import re\n",
    "\n",
    "remove_punctuation = udf(lambda line: re.sub('[^A-Za-z\\s]', '', line))\n",
    "make_binary = udf(lambda rating: 0 if rating in [1, 2] else 1, IntegerType())\n",
    "\n",
    "reviews = all_reviews.withColumn('label', make_binary(col('overall')))"
   ]
  },
  {
   "cell_type": "code",
   "execution_count": 5,
   "metadata": {
    "collapsed": true
   },
   "outputs": [],
   "source": [
    "from pyspark.ml.feature import StringIndexer\n",
    "from pyspark.ml import Pipeline\n",
    "\n",
    "indexing_pipeline = Pipeline(stages=[\n",
    "    StringIndexer(inputCol=\"reviewerID\", outputCol=\"reviewerIndex\"),\n",
    "    StringIndexer(inputCol=\"asin\", outputCol=\"asinIndex\")\n",
    "])\n",
    "\n",
    "indexer = indexing_pipeline.fit(reviews)\n",
    "indexed_reviews = indexer.transform(reviews)"
   ]
  },
  {
   "cell_type": "code",
   "execution_count": 6,
   "metadata": {
    "collapsed": true
   },
   "outputs": [],
   "source": [
    "train, _, test = [ chunk.cache() for chunk in indexed_reviews.randomSplit([.6, .2, .2], seed=1800009193L) ]"
   ]
  },
  {
   "cell_type": "markdown",
   "metadata": {},
   "source": [
    "## Balancing data"
   ]
  },
  {
   "cell_type": "code",
   "execution_count": 7,
   "metadata": {
    "collapsed": true
   },
   "outputs": [],
   "source": [
    "def multiply_dataset(dataset, n):\n",
    "    return dataset if n <= 1 else dataset.union(multiply_dataset(dataset, n - 1))\n",
    "\n",
    "reviews_good = train.filter('label == 1')\n",
    "reviews_bad = train.filter('label == 0')\n",
    "\n",
    "reviews_bad_multiplied = multiply_dataset(reviews_bad, reviews_good.count() / reviews_bad.count())\n",
    "\n",
    "train_reviews = reviews_bad_multiplied.union(reviews_good)"
   ]
  },
  {
   "cell_type": "markdown",
   "metadata": {},
   "source": [
    "## Evaluator"
   ]
  },
  {
   "cell_type": "code",
   "execution_count": 8,
   "metadata": {
    "collapsed": true
   },
   "outputs": [],
   "source": [
    "from pyspark.ml.evaluation import RegressionEvaluator\n",
    "\n",
    "evaluator = RegressionEvaluator(\n",
    "    predictionCol='prediction', \n",
    "    labelCol='label')"
   ]
  },
  {
   "cell_type": "markdown",
   "metadata": {},
   "source": [
    "## Benchmark: predict by distribution"
   ]
  },
  {
   "cell_type": "code",
   "execution_count": 9,
   "metadata": {},
   "outputs": [
    {
     "name": "stdout",
     "output_type": "stream",
     "text": [
      "The RMSE of always predicting 0.509133408363 stars is 0.491705072053\n"
     ]
    }
   ],
   "source": [
    "from pyspark.sql.functions import lit\n",
    "\n",
    "average_rating = (train_reviews\n",
    "    .groupBy()\n",
    "    .avg('label')\n",
    "    .collect()[0][0])\n",
    "\n",
    "average_rating_prediction = test.withColumn('prediction', lit(average_rating))\n",
    "\n",
    "average_rating_evaluation = evaluator.evaluate(average_rating_prediction)\n",
    "\n",
    "print('The RMSE of always predicting {0} stars is {1}'.format(average_rating, average_rating_evaluation))"
   ]
  },
  {
   "cell_type": "markdown",
   "metadata": {},
   "source": [
    "## Recommender system"
   ]
  },
  {
   "cell_type": "code",
   "execution_count": 10,
   "metadata": {
    "collapsed": true,
    "scrolled": true
   },
   "outputs": [],
   "source": [
    "from pyspark.ml.recommendation import ALS\n",
    "\n",
    "als = ALS(\n",
    "        maxIter=15,\n",
    "        regParam=0.1,\n",
    "        userCol='reviewerIndex',\n",
    "        itemCol='asinIndex',\n",
    "        ratingCol='label',\n",
    "        rank=24,        \n",
    "        seed=1800009193L)"
   ]
  },
  {
   "cell_type": "markdown",
   "metadata": {},
   "source": [
    "## Evaluating the model"
   ]
  },
  {
   "cell_type": "code",
   "execution_count": 14,
   "metadata": {
    "collapsed": true
   },
   "outputs": [],
   "source": [
    "recommender_system = als.fit(train_reviews)"
   ]
  },
  {
   "cell_type": "code",
   "execution_count": 15,
   "metadata": {
    "collapsed": true
   },
   "outputs": [],
   "source": [
    "predictions = recommender_system.transform(test)"
   ]
  },
  {
   "cell_type": "code",
   "execution_count": 16,
   "metadata": {},
   "outputs": [
    {
     "name": "stdout",
     "output_type": "stream",
     "text": [
      "The RMSE of the recommender system is 0.389991926061\n"
     ]
    }
   ],
   "source": [
    "evaluation = evaluator.evaluate(predictions.filter(col('prediction') != float('nan')))\n",
    "\n",
    "print('The RMSE of the recommender system is {0}'.format(evaluation))"
   ]
  }
 ],
 "metadata": {
  "kernelspec": {
   "display_name": "Python 2",
   "language": "python",
   "name": "python2"
  },
  "language_info": {
   "codemirror_mode": {
    "name": "ipython",
    "version": 2
   },
   "file_extension": ".py",
   "mimetype": "text/x-python",
   "name": "python",
   "nbconvert_exporter": "python",
   "pygments_lexer": "ipython2",
   "version": "2.7.13"
  }
 },
 "nbformat": 4,
 "nbformat_minor": 2
}
