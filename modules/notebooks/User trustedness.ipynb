{
 "cells": [
  {
   "cell_type": "markdown",
   "metadata": {},
   "source": [
    "# User "
   ]
  },
  {
   "cell_type": "markdown",
   "metadata": {},
   "source": [
    "## Loading data"
   ]
  },
  {
   "cell_type": "code",
   "execution_count": 9,
   "metadata": {},
   "outputs": [],
   "source": [
    "# all_reviews = (spark\n",
    "#     .read\n",
    "#     .json('../../data/raw_data/reviews_Musical_Instruments_5.json.gz'))"
   ]
  },
  {
   "cell_type": "markdown",
   "metadata": {},
   "source": [
    "## Extracting ranking components"
   ]
  },
  {
   "cell_type": "code",
   "execution_count": 10,
   "metadata": {
    "collapsed": true
   },
   "outputs": [],
   "source": [
    "reviews = all_reviews\n",
    "reviews_per_reviewer = reviews.groupBy('reviewerID').count()"
   ]
  },
  {
   "cell_type": "code",
   "execution_count": 31,
   "metadata": {},
   "outputs": [],
   "source": [
    "from pyspark.sql.functions import col, udf, avg\n",
    "from pyspark.sql.types import DoubleType\n",
    "\n",
    "helpfulness_ratio = udf(\n",
    "    lambda (useful, out_of): useful / float(out_of + 1), \n",
    "    returnType=DoubleType())\n",
    "\n",
    "helpfulness = (reviews\n",
    "  .select('reviewerID', helpfulness_ratio(col('helpful')).alias('helpfulness'))\n",
    "  .groupBy('reviewerID')\n",
    "  .agg(avg(col('helpfulness')).alias('helpfulness')))"
   ]
  },
  {
   "cell_type": "markdown",
   "metadata": {},
   "source": [
    "## Computing rankings & visualizing the good and bad reviews from the most trusted users"
   ]
  },
  {
   "cell_type": "code",
   "execution_count": 32,
   "metadata": {
    "collapsed": true
   },
   "outputs": [],
   "source": [
    "reviewers_trustedness = (helpfulness\n",
    "    .join(reviews_per_reviewer, 'reviewerID')\n",
    "    .select('reviewerID', (col('helpfulness') * col('count')).alias('trustedness')))"
   ]
  },
  {
   "cell_type": "code",
   "execution_count": null,
   "metadata": {
    "collapsed": true
   },
   "outputs": [],
   "source": [
    "reviewers_trustedness.limit(10).toPandas()"
   ]
  }
 ],
 "metadata": {
  "kernelspec": {
   "display_name": "Python 2",
   "language": "python",
   "name": "python2"
  },
  "language_info": {
   "codemirror_mode": {
    "name": "ipython",
    "version": 2
   },
   "file_extension": ".py",
   "mimetype": "text/x-python",
   "name": "python",
   "nbconvert_exporter": "python",
   "pygments_lexer": "ipython2",
   "version": "2.7.13"
  }
 },
 "nbformat": 4,
 "nbformat_minor": 2
}
