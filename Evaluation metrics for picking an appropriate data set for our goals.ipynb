{
 "cells": [
  {
   "cell_type": "markdown",
   "metadata": {},
   "source": [
    "# Metrics to consider\n",
    "\n",
    "1. **The ratio `(#different products)/(total #reviews)`.** Ideally we would like to have several reviews per product, thus this should be high.\n",
    "\n",
    "1. **The similar products should be considered as alternatives for the buyers.** E.g. a hair lotion for dry hair would not replace a hair lotion for greasy hair though different shovels could be considered as possible alternative choices. Unfortunately this is hard to extract thus should be decided manually.  \n",
    "\n",
    "1. **Data skewness in favor of the ratings 1 and 5.** It would be easier to answer our questions when we have many 5's and 1's, thus this should be high.\n",
    "\n",
    "1. **The dataset should be loaded instantly.** In order to have short feedback loops - at least in the beginning - we need to pick datasets with small size. We can still consider the large data sets, as long as we use only a random sample of them.\n",
    "\n",
    "1. **Existing bibliography.** Data sets which have already been used by others are preferred since we can get benchmarks, exploaratory analysis data and notebook kernels we can reuse and extend."
   ]
  },
  {
   "cell_type": "markdown",
   "metadata": {},
   "source": [
    "## Queries to extract the metrics"
   ]
  },
  {
   "cell_type": "code",
   "execution_count": 14,
   "metadata": {
    "collapsed": true
   },
   "outputs": [],
   "source": [
    "def average_review_number_per_product(reviews_df, reviews_count):\n",
    "    distinct_products = reviews_df.select('asin').distinct().count()\n",
    "    \n",
    "    return reviews_count / float(distinct_products)"
   ]
  },
  {
   "cell_type": "code",
   "execution_count": 15,
   "metadata": {
    "collapsed": true
   },
   "outputs": [],
   "source": [
    "def average_reviews_per_reviewer(reviews_df, reviews_count):\n",
    "    distinct_reviewers = reviews_df.select('reviewerID').distinct().count()\n",
    "    \n",
    "    return reviews_count / float(distinct_reviewers)"
   ]
  },
  {
   "cell_type": "code",
   "execution_count": 16,
   "metadata": {
    "collapsed": true
   },
   "outputs": [],
   "source": [
    "def percentages_per_rating(reviews_df, reviews_count):\n",
    "    rating_counts = (reviews_df\n",
    "         .groupBy('overall')\n",
    "         .count()\n",
    "         .rdd\n",
    "         .map(lambda row: row.asDict().values())\n",
    "         .collect())\n",
    "    \n",
    "    return [ (str(int(rating)), rating_count / float(reviews_count))\n",
    "        for rating_count, rating\n",
    "        in rating_counts ]"
   ]
  },
  {
   "cell_type": "code",
   "execution_count": 17,
   "metadata": {
    "collapsed": true
   },
   "outputs": [],
   "source": [
    "import re\n",
    "import numpy as np\n",
    "\n",
    "def evaluate_metrics(reviews_df, filename):\n",
    "    name = (re\n",
    "      .search('^reviews_(.+)_5\\.json\\.gz*', filename)\n",
    "      .group(1)\n",
    "      .replace('_', ' '))\n",
    "    \n",
    "    print(name)\n",
    "    \n",
    "    reviews_count = reviews_df.count()\n",
    "    \n",
    "    return dict(\n",
    "        [ ('dataset_name', name), \n",
    "          ('number_of_reviews', reviews_count), \n",
    "          ('reviews_per_product', average_review_number_per_product(reviews_df, reviews_count)),\n",
    "          ('reviews_per_reviewer', average_reviews_per_reviewer(reviews_df, reviews_count))] \n",
    "        + percentages_per_rating(reviews_df, reviews_count))"
   ]
  },
  {
   "cell_type": "markdown",
   "metadata": {},
   "source": [
    "## Extract the metrics from all the data files of a given directory into a pandas dataframe"
   ]
  },
  {
   "cell_type": "code",
   "execution_count": 18,
   "metadata": {},
   "outputs": [
    {
     "name": "stdout",
     "output_type": "stream",
     "text": [
      "Amazon Instant Video\n",
      "Apps for Android\n",
      "Automotive\n",
      "Baby\n",
      "Beauty\n",
      "Cell Phones and Accessories\n",
      "Clothing Shoes and Jewelry\n",
      "Digital Music\n",
      "Grocery and Gourmet Food\n",
      "Health and Personal Care\n",
      "Home and Kitchen\n",
      "Kindle Store\n",
      "Office Products\n",
      "Patio Lawn and Garden\n",
      "Pet Supplies\n",
      "Sports and Outdoors\n",
      "Tools and Home Improvement\n",
      "Toys and Games\n",
      "Video Games\n"
     ]
    }
   ],
   "source": [
    "import os\n",
    "import pandas as pd\n",
    "\n",
    "def extract_metrics_from_directory(data_directory):\n",
    "    return (pd\n",
    "        .DataFrame\n",
    "        .from_dict(\n",
    "            [ evaluate_metrics(\n",
    "                    (spark\n",
    "                         .read\n",
    "                         .json(os.path.join(data_directory, filename))), \n",
    "                    filename)\n",
    "                for filename in sorted(os.listdir(data_directory)) ])\n",
    "        .set_index('dataset_name'))\n",
    "\n",
    "metrics = extract_metrics_from_directory('./data/raw_data')\n",
    "metrics.to_csv('./metadata/initial-data-evaluation-metrics.csv')"
   ]
  }
 ],
 "metadata": {
  "kernelspec": {
   "display_name": "Python 2",
   "language": "python",
   "name": "python2"
  },
  "language_info": {
   "codemirror_mode": {
    "name": "ipython",
    "version": 2
   },
   "file_extension": ".py",
   "mimetype": "text/x-python",
   "name": "python",
   "nbconvert_exporter": "python",
   "pygments_lexer": "ipython2",
   "version": "2.7.13"
  }
 },
 "nbformat": 4,
 "nbformat_minor": 2
}
