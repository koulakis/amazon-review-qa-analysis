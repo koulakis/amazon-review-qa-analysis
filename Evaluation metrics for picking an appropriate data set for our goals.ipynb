{
 "cells": [
  {
   "cell_type": "markdown",
   "metadata": {},
   "source": [
    "# Metrics to consider\n",
    "\n",
    "1. **The ratio `(#different products)/(total #reviews)`.** Ideally we would like to have several reviews per product, thus this should be high.\n",
    "\n",
    "1. **The similar products should be considered as alternatives for the buyers.** E.g. a hair lotion for dry hair would not replace a hair lotion for greasy hair though different shovels could be considered as possible alternative choices. Unfortunately this is hard to extract thus should be decided manually.  \n",
    "\n",
    "1. **Data skewness in favor of the ratings 1 and 5.** It would be easier to answer our questions when we have many 5's and 1's, thus this should be high.\n",
    "\n",
    "1. **The dataset should be loaded instantly.** In order to have short feedback loops - at least in the beginning - we need to pick datasets with small size. We can still consider the large data sets, as long as we use only a random sample of them.\n",
    "\n",
    "1. **Existing bibliography.** Data sets which have already been used by others are preferred since we can get benchmarks, exploaratory analysis data and notebook kernels we can reuse and extend."
   ]
  },
  {
   "cell_type": "markdown",
   "metadata": {},
   "source": [
    "## Queries to extract the metrics"
   ]
  },
  {
   "cell_type": "code",
   "execution_count": 18,
   "metadata": {
    "collapsed": true
   },
   "outputs": [],
   "source": [
    "def percentage(some_float):\n",
    "    return '%i%%' % int(100 * some_float)"
   ]
  },
  {
   "cell_type": "code",
   "execution_count": 19,
   "metadata": {
    "collapsed": true
   },
   "outputs": [],
   "source": [
    "def average_review_per_product(dataframe, total_count):\n",
    "    number_of_distinct_products = dataframe.groupBy('asin').count().count()\n",
    "    \n",
    "    return [('reviews_per_product', percentage(number_of_distinct_products / float(total_count)))]"
   ]
  },
  {
   "cell_type": "code",
   "execution_count": 20,
   "metadata": {
    "collapsed": true
   },
   "outputs": [],
   "source": [
    "def percentages_per_rating(dataframe, total_count):\n",
    "    rating_counts = (dataframe\n",
    "         .groupBy('overall')\n",
    "         .count()\n",
    "         .rdd\n",
    "         .map(lambda row: row.asDict().values())\n",
    "         .collect())\n",
    "    \n",
    "    return [ (str(int(rating)), (percentage(rating_count / float(total_count))))\n",
    "        for rating_count, rating\n",
    "        in rating_counts ]"
   ]
  },
  {
   "cell_type": "code",
   "execution_count": 21,
   "metadata": {
    "collapsed": true
   },
   "outputs": [],
   "source": [
    "import re\n",
    "\n",
    "def evaluate_metrics(dataframe, filename):\n",
    "    name = (re\n",
    "      .search('^reviews_(.+)_5\\.json\\.gz*', filename)\n",
    "      .group(1)\n",
    "      .replace('_', ' '))\n",
    "    \n",
    "    print(name)\n",
    "    \n",
    "    total_count = dataframe.count()\n",
    "    \n",
    "    return dict([('dataset_name', name)] \n",
    "      + average_review_per_product(dataframe, total_count) \n",
    "      + percentages_per_rating(dataframe, total_count)\n",
    "      + [('number_of_reviews', total_count)])"
   ]
  },
  {
   "cell_type": "code",
   "execution_count": 22,
   "metadata": {
    "collapsed": true
   },
   "outputs": [],
   "source": [
    "import os\n",
    "import pandas as pd\n",
    "\n",
    "def show_metrics_comparison_matrix(data_directory):\n",
    "    return (pd\n",
    "        .DataFrame\n",
    "        .from_dict(\n",
    "            [ evaluate_metrics(\n",
    "                    (spark\n",
    "                         .read\n",
    "                         .json(os.path.join(data_directory, filename))), \n",
    "                    filename)\n",
    "                for filename in sorted(os.listdir(data_directory)) ])\n",
    "        .set_index('dataset_name'))"
   ]
  },
  {
   "cell_type": "code",
   "execution_count": null,
   "metadata": {},
   "outputs": [
    {
     "name": "stdout",
     "output_type": "stream",
     "text": [
      "Evaluating 'Amazon Instant Video'\n",
      "Evaluating 'Apps for Android'\n",
      "Evaluating 'Automotive'\n",
      "Evaluating 'Baby'\n",
      "Evaluating 'Beauty'\n",
      "Evaluating 'Cell Phones and Accessories'\n",
      "Evaluating 'Clothing Shoes and Jewelry'\n",
      "Evaluating 'Digital Music'\n",
      "Evaluating 'Grocery and Gourmet Food'\n",
      "Evaluating 'Health and Personal Care'\n",
      "Evaluating 'Home and Kitchen'\n"
     ]
    }
   ],
   "source": [
    "show_metrics_comparison_matrix('./data/raw_data')"
   ]
  }
 ],
 "metadata": {
  "kernelspec": {
   "display_name": "Python 2",
   "language": "python",
   "name": "python2"
  },
  "language_info": {
   "codemirror_mode": {
    "name": "ipython",
    "version": 2
   },
   "file_extension": ".py",
   "mimetype": "text/x-python",
   "name": "python",
   "nbconvert_exporter": "python",
   "pygments_lexer": "ipython2",
   "version": "2.7.13"
  }
 },
 "nbformat": 4,
 "nbformat_minor": 2
}
