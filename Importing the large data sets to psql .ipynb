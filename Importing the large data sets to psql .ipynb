{
 "cells": [
  {
   "cell_type": "markdown",
   "metadata": {},
   "source": [
    "# Importing the large datasets to a postgresql server\n",
    "\n",
    "It is not possible to load the larger data sets in the memory of a local machine therefeore an alternative is to import them to a psql table and query them from there. By adding the right indices this can make the queries fast enough. After this import one can extract some basic statistics using sql and also export smaller portions of the data which can be handled by spark or pandas on a local machine."
   ]
  },
  {
   "cell_type": "markdown",
   "metadata": {},
   "source": [
    "## Unzipping the data and converting it to csv format\n",
    "\n",
    "Unfortunately psql does not support an import of record json files therefore we need to convert the data sets to csv. We use here the command line tool [json2csv](https://github.com/jehiah/json2csv)."
   ]
  },
  {
   "cell_type": "code",
   "execution_count": 2,
   "metadata": {},
   "outputs": [
    {
     "name": "stdout",
     "output_type": "stream",
     "text": [
      "gzip: ./data/large-datasets/reviews_CDs_and_Vinyl_5.json: unknown suffix -- ignored\n",
      "rm: cannot remove 'reviews_CDs_and_Vinyl_5': No such file or directory\n"
     ]
    }
   ],
   "source": [
    "!gunzip ./data/large-datasets/reviews_CDs_and_Vinyl_5.json.gz ./data/large-datasets/reviews_CDs_and_Vinyl_5.json"
   ]
  },
  {
   "cell_type": "code",
   "execution_count": 6,
   "metadata": {
    "collapsed": true
   },
   "outputs": [],
   "source": [
    "!json2csv -p -d '|' -k asin,helpful,overall,reviewText,reviewTime,reviewerID,reviewerName,summary,unixReviewTime -i ./data/large-datasets/reviews_CDs_and_Vinyl_5.json -o ./data/large-datasets/reviews_CDs_and_Vinyl_5.csv"
   ]
  },
  {
   "cell_type": "markdown",
   "metadata": {},
   "source": [
    "## Importing the data in psql\n",
    "\n",
    "To import the data in psql we create a table with the appropriate shape and import form the csv files generated above."
   ]
  },
  {
   "cell_type": "markdown",
   "metadata": {},
   "source": [
    "### Some preparation to run psql transactions and queries in python"
   ]
  },
  {
   "cell_type": "code",
   "execution_count": 61,
   "metadata": {},
   "outputs": [],
   "source": [
    "import psycopg2 as pg\n",
    "import pandas as pd\n",
    "\n",
    "db_conf = { \n",
    "    'user': 'mariosk',\n",
    "    'database': 'amazon_reviews'\n",
    "}\n",
    "\n",
    "connection_factory = lambda: pg.connect(user=db_conf['user'], database=db_conf['database'])\n",
    "\n",
    "def transaction(*statements):\n",
    "    try:\n",
    "        connection = connection_factory()\n",
    "        cursor = connection.cursor()\n",
    "        for statement in statements:\n",
    "            cursor.execute(statement)\n",
    "        connection.commit()\n",
    "        cursor.close()\n",
    "    except pg.DatabaseError as error:\n",
    "        print(error)\n",
    "    finally:\n",
    "        if connection is not None:\n",
    "            connection.close()\n",
    "    \n",
    "def query(statement):\n",
    "    try:\n",
    "        connection = connection_factory()\n",
    "        cursor = connection.cursor()\n",
    "        cursor.execute(statement)\n",
    "        \n",
    "        header = [ description[0] for description in cursor.description ]\n",
    "        rows = cursor.fetchall()\n",
    "        \n",
    "        cursor.close()\n",
    "        return pd.DataFrame.from_records(rows, columns=header)\n",
    "    except (Exception, pg.DatabaseError) as error:\n",
    "        print(error)\n",
    "        return None\n",
    "    finally:\n",
    "        if connection is not None:\n",
    "            connection.close()"
   ]
  },
  {
   "cell_type": "markdown",
   "metadata": {},
   "source": [
    "### Creating tables for with indices for the large datasets"
   ]
  },
  {
   "cell_type": "code",
   "execution_count": 30,
   "metadata": {},
   "outputs": [],
   "source": [
    "transaction(\n",
    "    'create table cds (asin text, helpful text, overall double precision, reviewText text, reviewTime text, reviewerID text, reviewerName text, summary text, unixReviewTime int);',\n",
    "    'create index asin ON cds (asin);',\n",
    "    'create index overall ON cds (overall);',\n",
    "    'create index reviewerID ON cds (reviewerID);',\n",
    "    'create index unixReviewTime ON cds (unixReviewTime);')"
   ]
  },
  {
   "cell_type": "markdown",
   "metadata": {},
   "source": [
    "### Importing the datasets to psql"
   ]
  },
  {
   "cell_type": "code",
   "execution_count": 46,
   "metadata": {},
   "outputs": [
    {
     "name": "stdout",
     "output_type": "stream",
     "text": [
      "COPY 1097592\r\n"
     ]
    }
   ],
   "source": [
    "!psql -U mariosk -d amazon_reviews -c \"\\copy cds from './data/large-datasets/reviews_CDs_and_Vinyl_5.csv' with (format csv, delimiter '|', header true);\""
   ]
  },
  {
   "cell_type": "markdown",
   "metadata": {},
   "source": [
    "## Querying the metrics"
   ]
  },
  {
   "cell_type": "code",
   "execution_count": 62,
   "metadata": {},
   "outputs": [
    {
     "data": {
      "text/html": [
       "<div>\n",
       "<style>\n",
       "    .dataframe thead tr:only-child th {\n",
       "        text-align: right;\n",
       "    }\n",
       "\n",
       "    .dataframe thead th {\n",
       "        text-align: left;\n",
       "    }\n",
       "\n",
       "    .dataframe tbody tr th {\n",
       "        vertical-align: top;\n",
       "    }\n",
       "</style>\n",
       "<table border=\"1\" class=\"dataframe\">\n",
       "  <thead>\n",
       "    <tr style=\"text-align: right;\">\n",
       "      <th></th>\n",
       "      <th>asin</th>\n",
       "      <th>helpful</th>\n",
       "      <th>overall</th>\n",
       "      <th>reviewtext</th>\n",
       "      <th>reviewtime</th>\n",
       "      <th>reviewerid</th>\n",
       "      <th>reviewername</th>\n",
       "      <th>summary</th>\n",
       "      <th>unixreviewtime</th>\n",
       "    </tr>\n",
       "  </thead>\n",
       "  <tbody>\n",
       "    <tr>\n",
       "      <th>0</th>\n",
       "      <td>0307141985</td>\n",
       "      <td>[14 15]</td>\n",
       "      <td>5.0</td>\n",
       "      <td>I don't know who owns the rights to this wonde...</td>\n",
       "      <td>10 6, 2005</td>\n",
       "      <td>A3IEV6R2B7VW5Z</td>\n",
       "      <td>J. Anderson</td>\n",
       "      <td>LISTEN TO THE PUBLIC!!!</td>\n",
       "      <td>1128556800</td>\n",
       "    </tr>\n",
       "    <tr>\n",
       "      <th>1</th>\n",
       "      <td>0307141985</td>\n",
       "      <td>[2 2]</td>\n",
       "      <td>4.0</td>\n",
       "      <td>Thanksgiving is devoid of icons to make it a f...</td>\n",
       "      <td>11 23, 2011</td>\n",
       "      <td>A2H3ISQ4QB95XN</td>\n",
       "      <td>Joseph Brando</td>\n",
       "      <td>Rankin/Bass Does Thanksgiving!!</td>\n",
       "      <td>1322006400</td>\n",
       "    </tr>\n",
       "    <tr>\n",
       "      <th>2</th>\n",
       "      <td>0307141985</td>\n",
       "      <td>[38 38]</td>\n",
       "      <td>5.0</td>\n",
       "      <td>This is a Thanksgiving tale that begins with t...</td>\n",
       "      <td>07 14, 2003</td>\n",
       "      <td>A6GMEO3VRY51S</td>\n",
       "      <td>microjoe</td>\n",
       "      <td>Thanksgiving Holiday fun from Rankin/Bass</td>\n",
       "      <td>1058140800</td>\n",
       "    </tr>\n",
       "    <tr>\n",
       "      <th>3</th>\n",
       "      <td>0307141985</td>\n",
       "      <td>[15 16]</td>\n",
       "      <td>5.0</td>\n",
       "      <td>This is the BEST THANKSGIVING special around.....</td>\n",
       "      <td>11 6, 2003</td>\n",
       "      <td>A3E102F6LPUF1J</td>\n",
       "      <td>Richard J. Goldschmidt \"Rick Goldschmidt\"</td>\n",
       "      <td>BEST THANKSGIVING special out there!</td>\n",
       "      <td>1068076800</td>\n",
       "    </tr>\n",
       "    <tr>\n",
       "      <th>4</th>\n",
       "      <td>0307141985</td>\n",
       "      <td>[11 12]</td>\n",
       "      <td>5.0</td>\n",
       "      <td>It's been a number of years since I've seen Mo...</td>\n",
       "      <td>03 1, 2006</td>\n",
       "      <td>A2JP0URFHXP6DO</td>\n",
       "      <td>Tim Janson</td>\n",
       "      <td>A THANKSGIVING TRADITION</td>\n",
       "      <td>1141171200</td>\n",
       "    </tr>\n",
       "    <tr>\n",
       "      <th>5</th>\n",
       "      <td>073890015X</td>\n",
       "      <td>[0 0]</td>\n",
       "      <td>5.0</td>\n",
       "      <td>ok I guess a little over 2 hours was not enoug...</td>\n",
       "      <td>09 11, 2013</td>\n",
       "      <td>A31GBCW6YPY9OW</td>\n",
       "      <td>Dave Childress</td>\n",
       "      <td>great late 90's concert</td>\n",
       "      <td>1378857600</td>\n",
       "    </tr>\n",
       "    <tr>\n",
       "      <th>6</th>\n",
       "      <td>073890015X</td>\n",
       "      <td>[1 16]</td>\n",
       "      <td>5.0</td>\n",
       "      <td>I read one of the review's on here for woodsto...</td>\n",
       "      <td>01 23, 2003</td>\n",
       "      <td>A3QAV7LALVG1F7</td>\n",
       "      <td>Dianne Papineau \"Brock Papineau\"</td>\n",
       "      <td>Future woodstock's will be better than the first</td>\n",
       "      <td>1043280000</td>\n",
       "    </tr>\n",
       "    <tr>\n",
       "      <th>7</th>\n",
       "      <td>073890015X</td>\n",
       "      <td>[10 12]</td>\n",
       "      <td>2.0</td>\n",
       "      <td>I paid, I went, I saw, I experienced.  Unfortu...</td>\n",
       "      <td>03 10, 2000</td>\n",
       "      <td>A1BFRIT70VHDF8</td>\n",
       "      <td>Doogie the Audio Junkie \"dackley\"</td>\n",
       "      <td>2% Of The Real Woodstock 99</td>\n",
       "      <td>952646400</td>\n",
       "    </tr>\n",
       "    <tr>\n",
       "      <th>8</th>\n",
       "      <td>073890015X</td>\n",
       "      <td>[0 0]</td>\n",
       "      <td>5.0</td>\n",
       "      <td>As a fan of filmed concerts, I avoided this on...</td>\n",
       "      <td>04 13, 2009</td>\n",
       "      <td>AEFGR6NFTNWH0</td>\n",
       "      <td>Emile Pinsonneault</td>\n",
       "      <td>Don't Get Hung Up On The \"Woodstock\" Thing...</td>\n",
       "      <td>1239580800</td>\n",
       "    </tr>\n",
       "    <tr>\n",
       "      <th>9</th>\n",
       "      <td>073890015X</td>\n",
       "      <td>[11 13]</td>\n",
       "      <td>4.0</td>\n",
       "      <td>I dock this DVD one star only because I wanted...</td>\n",
       "      <td>06 14, 2000</td>\n",
       "      <td>A24GD1AWG77IDJ</td>\n",
       "      <td>E. Uthman \"Ed\"</td>\n",
       "      <td>Many great performances; superb audio and video</td>\n",
       "      <td>960940800</td>\n",
       "    </tr>\n",
       "  </tbody>\n",
       "</table>\n",
       "</div>"
      ],
      "text/plain": [
       "         asin  helpful  overall  \\\n",
       "0  0307141985  [14 15]      5.0   \n",
       "1  0307141985    [2 2]      4.0   \n",
       "2  0307141985  [38 38]      5.0   \n",
       "3  0307141985  [15 16]      5.0   \n",
       "4  0307141985  [11 12]      5.0   \n",
       "5  073890015X    [0 0]      5.0   \n",
       "6  073890015X   [1 16]      5.0   \n",
       "7  073890015X  [10 12]      2.0   \n",
       "8  073890015X    [0 0]      5.0   \n",
       "9  073890015X  [11 13]      4.0   \n",
       "\n",
       "                                          reviewtext   reviewtime  \\\n",
       "0  I don't know who owns the rights to this wonde...   10 6, 2005   \n",
       "1  Thanksgiving is devoid of icons to make it a f...  11 23, 2011   \n",
       "2  This is a Thanksgiving tale that begins with t...  07 14, 2003   \n",
       "3  This is the BEST THANKSGIVING special around.....   11 6, 2003   \n",
       "4  It's been a number of years since I've seen Mo...   03 1, 2006   \n",
       "5  ok I guess a little over 2 hours was not enoug...  09 11, 2013   \n",
       "6  I read one of the review's on here for woodsto...  01 23, 2003   \n",
       "7  I paid, I went, I saw, I experienced.  Unfortu...  03 10, 2000   \n",
       "8  As a fan of filmed concerts, I avoided this on...  04 13, 2009   \n",
       "9  I dock this DVD one star only because I wanted...  06 14, 2000   \n",
       "\n",
       "       reviewerid                               reviewername  \\\n",
       "0  A3IEV6R2B7VW5Z                                J. Anderson   \n",
       "1  A2H3ISQ4QB95XN                              Joseph Brando   \n",
       "2   A6GMEO3VRY51S                                   microjoe   \n",
       "3  A3E102F6LPUF1J  Richard J. Goldschmidt \"Rick Goldschmidt\"   \n",
       "4  A2JP0URFHXP6DO                                 Tim Janson   \n",
       "5  A31GBCW6YPY9OW                             Dave Childress   \n",
       "6  A3QAV7LALVG1F7           Dianne Papineau \"Brock Papineau\"   \n",
       "7  A1BFRIT70VHDF8          Doogie the Audio Junkie \"dackley\"   \n",
       "8   AEFGR6NFTNWH0                         Emile Pinsonneault   \n",
       "9  A24GD1AWG77IDJ                             E. Uthman \"Ed\"   \n",
       "\n",
       "                                            summary  unixreviewtime  \n",
       "0                           LISTEN TO THE PUBLIC!!!      1128556800  \n",
       "1                   Rankin/Bass Does Thanksgiving!!      1322006400  \n",
       "2         Thanksgiving Holiday fun from Rankin/Bass      1058140800  \n",
       "3              BEST THANKSGIVING special out there!      1068076800  \n",
       "4                          A THANKSGIVING TRADITION      1141171200  \n",
       "5                           great late 90's concert      1378857600  \n",
       "6  Future woodstock's will be better than the first      1043280000  \n",
       "7                       2% Of The Real Woodstock 99       952646400  \n",
       "8     Don't Get Hung Up On The \"Woodstock\" Thing...      1239580800  \n",
       "9   Many great performances; superb audio and video       960940800  "
      ]
     },
     "execution_count": 62,
     "metadata": {},
     "output_type": "execute_result"
    }
   ],
   "source": [
    "query('select * from cds limit 10')"
   ]
  }
 ],
 "metadata": {
  "kernelspec": {
   "display_name": "Python 2",
   "language": "python",
   "name": "python2"
  },
  "language_info": {
   "codemirror_mode": {
    "name": "ipython",
    "version": 2
   },
   "file_extension": ".py",
   "mimetype": "text/x-python",
   "name": "python",
   "nbconvert_exporter": "python",
   "pygments_lexer": "ipython2",
   "version": "2.7.13"
  }
 },
 "nbformat": 4,
 "nbformat_minor": 2
}
