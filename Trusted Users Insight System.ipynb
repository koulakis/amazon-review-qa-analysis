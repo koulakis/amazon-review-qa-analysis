{
 "cells": [
  {
   "cell_type": "code",
   "execution_count": 3,
   "metadata": {
    "collapsed": true
   },
   "outputs": [],
   "source": [
    "dataset = 'Musical_Instruments'\n",
    "\n",
    "reviews_filepath = './data/raw_data/reviews_{0}_5.json.gz'.format(dataset)\n",
    "metadata_filepath = './data/metadata/meta_{0}.json.gz'.format(dataset)"
   ]
  },
  {
   "cell_type": "code",
   "execution_count": null,
   "metadata": {
    "collapsed": true,
    "hide_input": false
   },
   "outputs": [],
   "source": [
    "%load modules/scripts/Load\\ datasets.py"
   ]
  },
  {
   "cell_type": "code",
   "execution_count": null,
   "metadata": {
    "collapsed": true,
    "hide_input": false
   },
   "outputs": [],
   "source": [
    "%load modules/scripts/Summarize\\ reviews.py"
   ]
  },
  {
   "cell_type": "code",
   "execution_count": 10,
   "metadata": {
    "hide_input": false
   },
   "outputs": [
    {
     "data": {
      "text/html": [
       "<div>\n",
       "<style>\n",
       "    .dataframe thead tr:only-child th {\n",
       "        text-align: right;\n",
       "    }\n",
       "\n",
       "    .dataframe thead th {\n",
       "        text-align: left;\n",
       "    }\n",
       "\n",
       "    .dataframe tbody tr th {\n",
       "        vertical-align: top;\n",
       "    }\n",
       "</style>\n",
       "<table border=\"1\" class=\"dataframe\">\n",
       "  <thead>\n",
       "    <tr style=\"text-align: right;\">\n",
       "      <th></th>\n",
       "      <th>reviewerID</th>\n",
       "      <th>trustedness</th>\n",
       "    </tr>\n",
       "  </thead>\n",
       "  <tbody>\n",
       "    <tr>\n",
       "      <th>0</th>\n",
       "      <td>A17A1KTVI3DG6U</td>\n",
       "      <td>3.047815</td>\n",
       "    </tr>\n",
       "    <tr>\n",
       "      <th>1</th>\n",
       "      <td>A36C867ZDP30NQ</td>\n",
       "      <td>2.000000</td>\n",
       "    </tr>\n",
       "    <tr>\n",
       "      <th>2</th>\n",
       "      <td>A5MC7LP0ZBO4Q</td>\n",
       "      <td>0.000000</td>\n",
       "    </tr>\n",
       "    <tr>\n",
       "      <th>3</th>\n",
       "      <td>A2DG65AWX5RJ4J</td>\n",
       "      <td>0.666667</td>\n",
       "    </tr>\n",
       "    <tr>\n",
       "      <th>4</th>\n",
       "      <td>A2IZ3ST24HSO4H</td>\n",
       "      <td>0.000000</td>\n",
       "    </tr>\n",
       "    <tr>\n",
       "      <th>5</th>\n",
       "      <td>ACWJDL1ZYX8RE</td>\n",
       "      <td>0.833333</td>\n",
       "    </tr>\n",
       "    <tr>\n",
       "      <th>6</th>\n",
       "      <td>A3AOPVQ7EZHTWA</td>\n",
       "      <td>7.267545</td>\n",
       "    </tr>\n",
       "    <tr>\n",
       "      <th>7</th>\n",
       "      <td>A3LOJ2QHXITCF7</td>\n",
       "      <td>0.000000</td>\n",
       "    </tr>\n",
       "    <tr>\n",
       "      <th>8</th>\n",
       "      <td>A2CARFAX5FNQT9</td>\n",
       "      <td>0.833333</td>\n",
       "    </tr>\n",
       "    <tr>\n",
       "      <th>9</th>\n",
       "      <td>AX11NOUMV8G95</td>\n",
       "      <td>1.000000</td>\n",
       "    </tr>\n",
       "  </tbody>\n",
       "</table>\n",
       "</div>"
      ],
      "text/plain": [
       "       reviewerID  trustedness\n",
       "0  A17A1KTVI3DG6U     3.047815\n",
       "1  A36C867ZDP30NQ     2.000000\n",
       "2   A5MC7LP0ZBO4Q     0.000000\n",
       "3  A2DG65AWX5RJ4J     0.666667\n",
       "4  A2IZ3ST24HSO4H     0.000000\n",
       "5   ACWJDL1ZYX8RE     0.833333\n",
       "6  A3AOPVQ7EZHTWA     7.267545\n",
       "7  A3LOJ2QHXITCF7     0.000000\n",
       "8  A2CARFAX5FNQT9     0.833333\n",
       "9   AX11NOUMV8G95     1.000000"
      ]
     },
     "execution_count": 10,
     "metadata": {},
     "output_type": "execute_result"
    }
   ],
   "source": [
    "%load modules/scripts/Trusted\\ user\\ groups.py"
   ]
  },
  {
   "cell_type": "code",
   "execution_count": 81,
   "metadata": {},
   "outputs": [
    {
     "name": "stdout",
     "output_type": "stream",
     "text": [
      "The RMSE of always predicting 0.509133408363 stars is 0.491705072053\n",
      "The RMSE of the recommender system is 0.389991926061\n"
     ]
    }
   ],
   "source": [
    "%load modules/scripts/Recommender\\ system.py"
   ]
  },
  {
   "cell_type": "markdown",
   "metadata": {},
   "source": [
    "## Select a product"
   ]
  },
  {
   "cell_type": "code",
   "execution_count": 84,
   "metadata": {},
   "outputs": [
    {
     "data": {
      "text/html": [
       "<div>\n",
       "<style>\n",
       "    .dataframe thead tr:only-child th {\n",
       "        text-align: right;\n",
       "    }\n",
       "\n",
       "    .dataframe thead th {\n",
       "        text-align: left;\n",
       "    }\n",
       "\n",
       "    .dataframe tbody tr th {\n",
       "        vertical-align: top;\n",
       "    }\n",
       "</style>\n",
       "<table border=\"1\" class=\"dataframe\">\n",
       "  <thead>\n",
       "    <tr style=\"text-align: right;\">\n",
       "      <th></th>\n",
       "      <th>asin</th>\n",
       "      <th>title</th>\n",
       "    </tr>\n",
       "  </thead>\n",
       "  <tbody>\n",
       "    <tr>\n",
       "      <th>0</th>\n",
       "      <td>B000068NW5</td>\n",
       "      <td>Hosa Cable GTR210 Guitar Instrument Cable - 10...</td>\n",
       "    </tr>\n",
       "    <tr>\n",
       "      <th>1</th>\n",
       "      <td>B0002CZV82</td>\n",
       "      <td>Boss DS1 Distortion Guitar Pedal</td>\n",
       "    </tr>\n",
       "    <tr>\n",
       "      <th>2</th>\n",
       "      <td>B0002E1NQ4</td>\n",
       "      <td>Neotech 5701002 Super Banjo Strap, Black</td>\n",
       "    </tr>\n",
       "    <tr>\n",
       "      <th>3</th>\n",
       "      <td>B0002GW3Y8</td>\n",
       "      <td>Fingerease Guitar String Lubricant</td>\n",
       "    </tr>\n",
       "    <tr>\n",
       "      <th>4</th>\n",
       "      <td>B0002M6B2M</td>\n",
       "      <td>Martin M140 Bronze Acoustic Guitar Strings, Light</td>\n",
       "    </tr>\n",
       "    <tr>\n",
       "      <th>5</th>\n",
       "      <td>B0002M72JS</td>\n",
       "      <td>Electro-Harmonix 12AX7EH Preamp Tube</td>\n",
       "    </tr>\n",
       "    <tr>\n",
       "      <th>6</th>\n",
       "      <td>B000KIRT74</td>\n",
       "      <td>Behringer TO800 Vintage Tube-Sound Overdrive P...</td>\n",
       "    </tr>\n",
       "    <tr>\n",
       "      <th>7</th>\n",
       "      <td>B000L7MNUM</td>\n",
       "      <td>Mighty Bright Duet Music Stand Light</td>\n",
       "    </tr>\n",
       "    <tr>\n",
       "      <th>8</th>\n",
       "      <td>B000LFCXL8</td>\n",
       "      <td>Seiko SQ50-V Quartz Metronome</td>\n",
       "    </tr>\n",
       "    <tr>\n",
       "      <th>9</th>\n",
       "      <td>B000WS1QC6</td>\n",
       "      <td>Yamaha PA130 120 Volt Keyboard AC Power Adaptor</td>\n",
       "    </tr>\n",
       "    <tr>\n",
       "      <th>10</th>\n",
       "      <td>B001SC4I16</td>\n",
       "      <td>Mahalo U-30RD Painted Economy Soprano Ukulele ...</td>\n",
       "    </tr>\n",
       "  </tbody>\n",
       "</table>\n",
       "</div>"
      ],
      "text/plain": [
       "          asin                                              title\n",
       "0   B000068NW5  Hosa Cable GTR210 Guitar Instrument Cable - 10...\n",
       "1   B0002CZV82                   Boss DS1 Distortion Guitar Pedal\n",
       "2   B0002E1NQ4           Neotech 5701002 Super Banjo Strap, Black\n",
       "3   B0002GW3Y8                 Fingerease Guitar String Lubricant\n",
       "4   B0002M6B2M  Martin M140 Bronze Acoustic Guitar Strings, Light\n",
       "5   B0002M72JS               Electro-Harmonix 12AX7EH Preamp Tube\n",
       "6   B000KIRT74  Behringer TO800 Vintage Tube-Sound Overdrive P...\n",
       "7   B000L7MNUM               Mighty Bright Duet Music Stand Light\n",
       "8   B000LFCXL8                      Seiko SQ50-V Quartz Metronome\n",
       "9   B000WS1QC6    Yamaha PA130 120 Volt Keyboard AC Power Adaptor\n",
       "10  B001SC4I16  Mahalo U-30RD Painted Economy Soprano Ukulele ..."
      ]
     },
     "execution_count": 84,
     "metadata": {},
     "output_type": "execute_result"
    }
   ],
   "source": [
    "reviewed_products = (all_metadata\n",
    "    .join(reviews, 'asin')\n",
    "    .filter('''\n",
    "        categories is not null \n",
    "        and related is not null'''))\n",
    "\n",
    "(reviewed_products\n",
    "     .sample(\n",
    "         withReplacement=False, \n",
    "         fraction= 10. / reviewed_products.count() , \n",
    "         seed=4325535L)\n",
    "     .select('asin', 'title')\n",
    "     .toPandas())"
   ]
  },
  {
   "cell_type": "code",
   "execution_count": 85,
   "metadata": {
    "collapsed": true
   },
   "outputs": [],
   "source": [
    "selected_product = 'B000L7MNUM'"
   ]
  },
  {
   "cell_type": "markdown",
   "metadata": {},
   "source": [
    "## Product negative words"
   ]
  },
  {
   "cell_type": "code",
   "execution_count": 86,
   "metadata": {},
   "outputs": [
    {
     "data": {
      "text/html": [
       "<div>\n",
       "<style>\n",
       "    .dataframe thead tr:only-child th {\n",
       "        text-align: right;\n",
       "    }\n",
       "\n",
       "    .dataframe thead th {\n",
       "        text-align: left;\n",
       "    }\n",
       "\n",
       "    .dataframe tbody tr th {\n",
       "        vertical-align: top;\n",
       "    }\n",
       "</style>\n",
       "<table border=\"1\" class=\"dataframe\">\n",
       "  <thead>\n",
       "    <tr style=\"text-align: right;\">\n",
       "      <th></th>\n",
       "      <th>word</th>\n",
       "      <th>neg_prob</th>\n",
       "    </tr>\n",
       "  </thead>\n",
       "  <tbody>\n",
       "    <tr>\n",
       "      <th>0</th>\n",
       "      <td>bummer</td>\n",
       "      <td>0.658206</td>\n",
       "    </tr>\n",
       "    <tr>\n",
       "      <th>1</th>\n",
       "      <td>ok</td>\n",
       "      <td>0.648580</td>\n",
       "    </tr>\n",
       "    <tr>\n",
       "      <th>2</th>\n",
       "      <td>not</td>\n",
       "      <td>0.609827</td>\n",
       "    </tr>\n",
       "    <tr>\n",
       "      <th>3</th>\n",
       "      <td>while</td>\n",
       "      <td>0.560444</td>\n",
       "    </tr>\n",
       "    <tr>\n",
       "      <th>4</th>\n",
       "      <td>work</td>\n",
       "      <td>0.519024</td>\n",
       "    </tr>\n",
       "    <tr>\n",
       "      <th>5</th>\n",
       "      <td>was</td>\n",
       "      <td>0.483148</td>\n",
       "    </tr>\n",
       "    <tr>\n",
       "      <th>6</th>\n",
       "      <td>light</td>\n",
       "      <td>0.482553</td>\n",
       "    </tr>\n",
       "    <tr>\n",
       "      <th>7</th>\n",
       "      <td>of</td>\n",
       "      <td>0.464182</td>\n",
       "    </tr>\n",
       "    <tr>\n",
       "      <th>8</th>\n",
       "      <td>they</td>\n",
       "      <td>0.461554</td>\n",
       "    </tr>\n",
       "    <tr>\n",
       "      <th>9</th>\n",
       "      <td>i</td>\n",
       "      <td>0.449433</td>\n",
       "    </tr>\n",
       "  </tbody>\n",
       "</table>\n",
       "</div>"
      ],
      "text/plain": [
       "     word  neg_prob\n",
       "0  bummer  0.658206\n",
       "1      ok  0.648580\n",
       "2     not  0.609827\n",
       "3   while  0.560444\n",
       "4    work  0.519024\n",
       "5     was  0.483148\n",
       "6   light  0.482553\n",
       "7      of  0.464182\n",
       "8    they  0.461554\n",
       "9       i  0.449433"
      ]
     },
     "execution_count": 86,
     "metadata": {},
     "output_type": "execute_result"
    }
   ],
   "source": [
    "from pyspark.ml.feature import Tokenizer\n",
    "from pyspark.sql.functions import explode\n",
    "\n",
    "product_words_per_reviewer = (\n",
    "    Tokenizer(inputCol='summary', outputCol='words')\n",
    "        .transform(all_reviews.filter(col('asin') == selected_product))\n",
    "    .select('reviewerID', 'words'))\n",
    "\n",
    "word_ranks = (product_words_per_reviewer\n",
    "    .select(explode(col('words')).alias('word'))\n",
    "    .distinct()\n",
    "    .join(negative_predictive_words, col('word') == negative_predictive_words.negative_word)\n",
    "    .select('word', 'neg_prob')\n",
    "    .sort('neg_prob', ascending=False))\n",
    "\n",
    "word_ranks.limit(10).toPandas()"
   ]
  },
  {
   "cell_type": "code",
   "execution_count": 87,
   "metadata": {
    "collapsed": true
   },
   "outputs": [],
   "source": [
    "selected_negative_word = 'bummer'"
   ]
  },
  {
   "cell_type": "markdown",
   "metadata": {},
   "source": [
    "## Trusted users that used the word"
   ]
  },
  {
   "cell_type": "code",
   "execution_count": 111,
   "metadata": {},
   "outputs": [
    {
     "data": {
      "text/html": [
       "<div>\n",
       "<style>\n",
       "    .dataframe thead tr:only-child th {\n",
       "        text-align: right;\n",
       "    }\n",
       "\n",
       "    .dataframe thead th {\n",
       "        text-align: left;\n",
       "    }\n",
       "\n",
       "    .dataframe tbody tr th {\n",
       "        vertical-align: top;\n",
       "    }\n",
       "</style>\n",
       "<table border=\"1\" class=\"dataframe\">\n",
       "  <thead>\n",
       "    <tr style=\"text-align: right;\">\n",
       "      <th></th>\n",
       "      <th>reviewerID</th>\n",
       "    </tr>\n",
       "  </thead>\n",
       "  <tbody>\n",
       "    <tr>\n",
       "      <th>0</th>\n",
       "      <td>A35XRT4BW4I6UD</td>\n",
       "    </tr>\n",
       "  </tbody>\n",
       "</table>\n",
       "</div>"
      ],
      "text/plain": [
       "       reviewerID\n",
       "0  A35XRT4BW4I6UD"
      ]
     },
     "execution_count": 111,
     "metadata": {},
     "output_type": "execute_result"
    }
   ],
   "source": [
    "from pyspark.sql.functions import udf, lit\n",
    "from pyspark.sql.types import BooleanType\n",
    "\n",
    "is_elemen_of = udf(lambda word, words: word in words, BooleanType())\n",
    "\n",
    "users_that_used_the_word = (product_words_per_reviewer\n",
    "    .filter(is_elemen_of(lit(selected_negative_word), col('words')))\n",
    "    .select('reviewerID'))\n",
    "\n",
    "users_that_used_the_word.toPandas()"
   ]
  },
  {
   "cell_type": "markdown",
   "metadata": {},
   "source": [
    "## Suggested products in the same category"
   ]
  },
  {
   "cell_type": "code",
   "execution_count": 78,
   "metadata": {},
   "outputs": [
    {
     "name": "stdout",
     "output_type": "stream",
     "text": [
      "Product category: Tuning Pegs\n"
     ]
    }
   ],
   "source": [
    "product_category = (reviewed_products\n",
    "    .filter(col('asin') == selected_product)\n",
    "    .select('categories')\n",
    "    .take(1)[0][0][0][-1])\n",
    "\n",
    "print('Product category: {0}'.format(product_category))"
   ]
  },
  {
   "cell_type": "code",
   "execution_count": 113,
   "metadata": {},
   "outputs": [
    {
     "data": {
      "text/html": [
       "<div>\n",
       "<style>\n",
       "    .dataframe thead tr:only-child th {\n",
       "        text-align: right;\n",
       "    }\n",
       "\n",
       "    .dataframe thead th {\n",
       "        text-align: left;\n",
       "    }\n",
       "\n",
       "    .dataframe tbody tr th {\n",
       "        vertical-align: top;\n",
       "    }\n",
       "</style>\n",
       "<table border=\"1\" class=\"dataframe\">\n",
       "  <thead>\n",
       "    <tr style=\"text-align: right;\">\n",
       "      <th></th>\n",
       "      <th>asin</th>\n",
       "      <th>title</th>\n",
       "    </tr>\n",
       "  </thead>\n",
       "  <tbody>\n",
       "    <tr>\n",
       "      <th>0</th>\n",
       "      <td>B0007ORM0K</td>\n",
       "      <td>Grover 102-18C Rotomatic 18:1 3 per Side Tuners, Chrome</td>\n",
       "    </tr>\n",
       "    <tr>\n",
       "      <th>1</th>\n",
       "      <td>B001L8IKLG</td>\n",
       "      <td>Fender American Series Stratocaster Guitar Tuners with Gold Hardware Set of 6 Gold</td>\n",
       "    </tr>\n",
       "    <tr>\n",
       "      <th>2</th>\n",
       "      <td>B000L6GD04</td>\n",
       "      <td>Fender Locking Tuners Chrome</td>\n",
       "    </tr>\n",
       "    <tr>\n",
       "      <th>3</th>\n",
       "      <td>B0007Y3XGW</td>\n",
       "      <td>Grover 406C Rotomatic Mini 3 per Side Self Locking Machine Heads, Chrome</td>\n",
       "    </tr>\n",
       "    <tr>\n",
       "      <th>4</th>\n",
       "      <td>B0002E2G2O</td>\n",
       "      <td>Fender Strat/Tele Vintage Machine Head set of 6</td>\n",
       "    </tr>\n",
       "  </tbody>\n",
       "</table>\n",
       "</div>"
      ],
      "text/plain": [
       "         asin  \\\n",
       "0  B0007ORM0K   \n",
       "1  B001L8IKLG   \n",
       "2  B000L6GD04   \n",
       "3  B0007Y3XGW   \n",
       "4  B0002E2G2O   \n",
       "\n",
       "                                                                                title  \n",
       "0  Grover 102-18C Rotomatic 18:1 3 per Side Tuners, Chrome                             \n",
       "1  Fender American Series Stratocaster Guitar Tuners with Gold Hardware Set of 6 Gold  \n",
       "2  Fender Locking Tuners Chrome                                                        \n",
       "3  Grover 406C Rotomatic Mini 3 per Side Self Locking Machine Heads, Chrome            \n",
       "4  Fender Strat/Tele Vintage Machine Head set of 6                                     "
      ]
     },
     "execution_count": 113,
     "metadata": {},
     "output_type": "execute_result"
    }
   ],
   "source": [
    "import pandas as pd\n",
    "pd.set_option('display.max_colwidth', -1)\n",
    "\n",
    "last_element = udf(lambda categories: categories[0][-1])\n",
    "\n",
    "products_in_same_category = (reviewed_products\n",
    "    .limit(100000)\n",
    "    .filter(last_element(col('categories')) == product_category)\n",
    "    .select('asin', 'title')\n",
    "    .distinct())\n",
    "\n",
    "products_in_same_category.limit(10).toPandas()"
   ]
  },
  {
   "cell_type": "code",
   "execution_count": 118,
   "metadata": {},
   "outputs": [
    {
     "data": {
      "text/html": [
       "<div>\n",
       "<style>\n",
       "    .dataframe thead tr:only-child th {\n",
       "        text-align: right;\n",
       "    }\n",
       "\n",
       "    .dataframe thead th {\n",
       "        text-align: left;\n",
       "    }\n",
       "\n",
       "    .dataframe tbody tr th {\n",
       "        vertical-align: top;\n",
       "    }\n",
       "</style>\n",
       "<table border=\"1\" class=\"dataframe\">\n",
       "  <thead>\n",
       "    <tr style=\"text-align: right;\">\n",
       "      <th></th>\n",
       "      <th>asin</th>\n",
       "      <th>title</th>\n",
       "      <th>reviewerID</th>\n",
       "      <th>reviewerIndex</th>\n",
       "      <th>asinIndex</th>\n",
       "      <th>prediction</th>\n",
       "    </tr>\n",
       "  </thead>\n",
       "  <tbody>\n",
       "    <tr>\n",
       "      <th>0</th>\n",
       "      <td>B000L6GD04</td>\n",
       "      <td>Fender Locking Tuners Chrome</td>\n",
       "      <td>A35XRT4BW4I6UD</td>\n",
       "      <td>76.0</td>\n",
       "      <td>30.0</td>\n",
       "      <td>0.629843</td>\n",
       "    </tr>\n",
       "    <tr>\n",
       "      <th>1</th>\n",
       "      <td>B001L8IKLG</td>\n",
       "      <td>Fender American Series Stratocaster Guitar Tuners with Gold Hardware Set of 6 Gold</td>\n",
       "      <td>A35XRT4BW4I6UD</td>\n",
       "      <td>76.0</td>\n",
       "      <td>825.0</td>\n",
       "      <td>0.599570</td>\n",
       "    </tr>\n",
       "    <tr>\n",
       "      <th>2</th>\n",
       "      <td>B0007Y3XGW</td>\n",
       "      <td>Grover 406C Rotomatic Mini 3 per Side Self Locking Machine Heads, Chrome</td>\n",
       "      <td>A35XRT4BW4I6UD</td>\n",
       "      <td>76.0</td>\n",
       "      <td>621.0</td>\n",
       "      <td>0.597146</td>\n",
       "    </tr>\n",
       "    <tr>\n",
       "      <th>3</th>\n",
       "      <td>B0007ORM0K</td>\n",
       "      <td>Grover 102-18C Rotomatic 18:1 3 per Side Tuners, Chrome</td>\n",
       "      <td>A35XRT4BW4I6UD</td>\n",
       "      <td>76.0</td>\n",
       "      <td>547.0</td>\n",
       "      <td>0.573342</td>\n",
       "    </tr>\n",
       "    <tr>\n",
       "      <th>4</th>\n",
       "      <td>B0002E2G2O</td>\n",
       "      <td>Fender Strat/Tele Vintage Machine Head set of 6</td>\n",
       "      <td>A35XRT4BW4I6UD</td>\n",
       "      <td>76.0</td>\n",
       "      <td>798.0</td>\n",
       "      <td>0.535599</td>\n",
       "    </tr>\n",
       "  </tbody>\n",
       "</table>\n",
       "</div>"
      ],
      "text/plain": [
       "         asin  \\\n",
       "0  B000L6GD04   \n",
       "1  B001L8IKLG   \n",
       "2  B0007Y3XGW   \n",
       "3  B0007ORM0K   \n",
       "4  B0002E2G2O   \n",
       "\n",
       "                                                                                title  \\\n",
       "0  Fender Locking Tuners Chrome                                                         \n",
       "1  Fender American Series Stratocaster Guitar Tuners with Gold Hardware Set of 6 Gold   \n",
       "2  Grover 406C Rotomatic Mini 3 per Side Self Locking Machine Heads, Chrome             \n",
       "3  Grover 102-18C Rotomatic 18:1 3 per Side Tuners, Chrome                              \n",
       "4  Fender Strat/Tele Vintage Machine Head set of 6                                      \n",
       "\n",
       "       reviewerID  reviewerIndex  asinIndex  prediction  \n",
       "0  A35XRT4BW4I6UD  76.0           30.0       0.629843    \n",
       "1  A35XRT4BW4I6UD  76.0           825.0      0.599570    \n",
       "2  A35XRT4BW4I6UD  76.0           621.0      0.597146    \n",
       "3  A35XRT4BW4I6UD  76.0           547.0      0.573342    \n",
       "4  A35XRT4BW4I6UD  76.0           798.0      0.535599    "
      ]
     },
     "execution_count": 118,
     "metadata": {},
     "output_type": "execute_result"
    }
   ],
   "source": [
    "indexed_products = indexer.transform(\n",
    "    products_in_same_category.crossJoin(users_that_used_the_word))\n",
    "\n",
    "alternative_products = recommender_system.transform(indexed_products).sort('prediction', ascending=False)\n",
    "\n",
    "alternative_products.toPandas()"
   ]
  }
 ],
 "metadata": {
  "kernelspec": {
   "display_name": "Python 2",
   "language": "python",
   "name": "python2"
  },
  "language_info": {
   "codemirror_mode": {
    "name": "ipython",
    "version": 2
   },
   "file_extension": ".py",
   "mimetype": "text/x-python",
   "name": "python",
   "nbconvert_exporter": "python",
   "pygments_lexer": "ipython2",
   "version": "2.7.13"
  }
 },
 "nbformat": 4,
 "nbformat_minor": 2
}
