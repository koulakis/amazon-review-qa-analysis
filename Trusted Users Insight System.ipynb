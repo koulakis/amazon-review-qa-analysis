{
 "cells": [
  {
   "cell_type": "code",
   "execution_count": 3,
   "metadata": {
    "collapsed": true
   },
   "outputs": [],
   "source": [
    "dataset = 'Musical_Instruments'\n",
    "\n",
    "reviews_filepath = './data/raw_data/reviews_{0}_5.json.gz'.format(dataset)\n",
    "metadata_filepath = './data/metadata/meta_{0}.json.gz'.format(dataset)"
   ]
  },
  {
   "cell_type": "code",
   "execution_count": 6,
   "metadata": {
    "collapsed": true,
    "hide_input": false
   },
   "outputs": [],
   "source": [
    "%load modules/scripts/Load\\ datasets.py"
   ]
  },
  {
   "cell_type": "code",
   "execution_count": 12,
   "metadata": {
    "hide_input": false
   },
   "outputs": [
    {
     "name": "stdout",
     "output_type": "stream",
     "text": [
      "Always predicting 5 stars accuracy: 0.506650874636\n"
     ]
    },
    {
     "data": {
      "text/html": [
       "<div>\n",
       "<style>\n",
       "    .dataframe thead tr:only-child th {\n",
       "        text-align: right;\n",
       "    }\n",
       "\n",
       "    .dataframe thead th {\n",
       "        text-align: left;\n",
       "    }\n",
       "\n",
       "    .dataframe tbody tr th {\n",
       "        vertical-align: top;\n",
       "    }\n",
       "</style>\n",
       "<table border=\"1\" class=\"dataframe\">\n",
       "  <thead>\n",
       "    <tr style=\"text-align: right;\">\n",
       "      <th></th>\n",
       "      <th>positive_word</th>\n",
       "      <th>pos_prob</th>\n",
       "      <th>negative_word</th>\n",
       "      <th>neg_prob</th>\n",
       "    </tr>\n",
       "  </thead>\n",
       "  <tbody>\n",
       "    <tr>\n",
       "      <th>0</th>\n",
       "      <td>fullest</td>\n",
       "      <td>0.758080</td>\n",
       "      <td>okay</td>\n",
       "      <td>0.674958</td>\n",
       "    </tr>\n",
       "    <tr>\n",
       "      <th>1</th>\n",
       "      <td>prefer</td>\n",
       "      <td>0.755777</td>\n",
       "      <td>lackluster</td>\n",
       "      <td>0.672741</td>\n",
       "    </tr>\n",
       "    <tr>\n",
       "      <th>2</th>\n",
       "      <td>maybe</td>\n",
       "      <td>0.750025</td>\n",
       "      <td>lightweightattractive</td>\n",
       "      <td>0.666229</td>\n",
       "    </tr>\n",
       "    <tr>\n",
       "      <th>3</th>\n",
       "      <td>job</td>\n",
       "      <td>0.741355</td>\n",
       "      <td>destroyed</td>\n",
       "      <td>0.665905</td>\n",
       "    </tr>\n",
       "    <tr>\n",
       "      <th>4</th>\n",
       "      <td>supplies</td>\n",
       "      <td>0.734750</td>\n",
       "      <td>bummer</td>\n",
       "      <td>0.658206</td>\n",
       "    </tr>\n",
       "    <tr>\n",
       "      <th>5</th>\n",
       "      <td>supposed</td>\n",
       "      <td>0.731578</td>\n",
       "      <td>junk</td>\n",
       "      <td>0.656022</td>\n",
       "    </tr>\n",
       "    <tr>\n",
       "      <th>6</th>\n",
       "      <td>perfect</td>\n",
       "      <td>0.730344</td>\n",
       "      <td>unhappy</td>\n",
       "      <td>0.655910</td>\n",
       "    </tr>\n",
       "    <tr>\n",
       "      <th>7</th>\n",
       "      <td>thinking</td>\n",
       "      <td>0.727673</td>\n",
       "      <td>ok</td>\n",
       "      <td>0.648580</td>\n",
       "    </tr>\n",
       "    <tr>\n",
       "      <th>8</th>\n",
       "      <td>given</td>\n",
       "      <td>0.727153</td>\n",
       "      <td>crap</td>\n",
       "      <td>0.648168</td>\n",
       "    </tr>\n",
       "    <tr>\n",
       "      <th>9</th>\n",
       "      <td>sometimes</td>\n",
       "      <td>0.724134</td>\n",
       "      <td>limp</td>\n",
       "      <td>0.647734</td>\n",
       "    </tr>\n",
       "  </tbody>\n",
       "</table>\n",
       "</div>"
      ],
      "text/plain": [
       "  positive_word  pos_prob          negative_word  neg_prob\n",
       "0       fullest  0.758080                   okay  0.674958\n",
       "1        prefer  0.755777             lackluster  0.672741\n",
       "2         maybe  0.750025  lightweightattractive  0.666229\n",
       "3           job  0.741355              destroyed  0.665905\n",
       "4      supplies  0.734750                 bummer  0.658206\n",
       "5      supposed  0.731578                   junk  0.656022\n",
       "6       perfect  0.730344                unhappy  0.655910\n",
       "7      thinking  0.727673                     ok  0.648580\n",
       "8         given  0.727153                   crap  0.648168\n",
       "9     sometimes  0.724134                   limp  0.647734"
      ]
     },
     "execution_count": 12,
     "metadata": {},
     "output_type": "execute_result"
    }
   ],
   "source": [
    "%load modules/scripts/Summarize\\ reviews.py"
   ]
  },
  {
   "cell_type": "code",
   "execution_count": 10,
   "metadata": {
    "hide_input": false
   },
   "outputs": [
    {
     "data": {
      "text/html": [
       "<div>\n",
       "<style>\n",
       "    .dataframe thead tr:only-child th {\n",
       "        text-align: right;\n",
       "    }\n",
       "\n",
       "    .dataframe thead th {\n",
       "        text-align: left;\n",
       "    }\n",
       "\n",
       "    .dataframe tbody tr th {\n",
       "        vertical-align: top;\n",
       "    }\n",
       "</style>\n",
       "<table border=\"1\" class=\"dataframe\">\n",
       "  <thead>\n",
       "    <tr style=\"text-align: right;\">\n",
       "      <th></th>\n",
       "      <th>reviewerID</th>\n",
       "      <th>trustedness</th>\n",
       "    </tr>\n",
       "  </thead>\n",
       "  <tbody>\n",
       "    <tr>\n",
       "      <th>0</th>\n",
       "      <td>A17A1KTVI3DG6U</td>\n",
       "      <td>3.047815</td>\n",
       "    </tr>\n",
       "    <tr>\n",
       "      <th>1</th>\n",
       "      <td>A36C867ZDP30NQ</td>\n",
       "      <td>2.000000</td>\n",
       "    </tr>\n",
       "    <tr>\n",
       "      <th>2</th>\n",
       "      <td>A5MC7LP0ZBO4Q</td>\n",
       "      <td>0.000000</td>\n",
       "    </tr>\n",
       "    <tr>\n",
       "      <th>3</th>\n",
       "      <td>A2DG65AWX5RJ4J</td>\n",
       "      <td>0.666667</td>\n",
       "    </tr>\n",
       "    <tr>\n",
       "      <th>4</th>\n",
       "      <td>A2IZ3ST24HSO4H</td>\n",
       "      <td>0.000000</td>\n",
       "    </tr>\n",
       "    <tr>\n",
       "      <th>5</th>\n",
       "      <td>ACWJDL1ZYX8RE</td>\n",
       "      <td>0.833333</td>\n",
       "    </tr>\n",
       "    <tr>\n",
       "      <th>6</th>\n",
       "      <td>A3AOPVQ7EZHTWA</td>\n",
       "      <td>7.267545</td>\n",
       "    </tr>\n",
       "    <tr>\n",
       "      <th>7</th>\n",
       "      <td>A3LOJ2QHXITCF7</td>\n",
       "      <td>0.000000</td>\n",
       "    </tr>\n",
       "    <tr>\n",
       "      <th>8</th>\n",
       "      <td>A2CARFAX5FNQT9</td>\n",
       "      <td>0.833333</td>\n",
       "    </tr>\n",
       "    <tr>\n",
       "      <th>9</th>\n",
       "      <td>AX11NOUMV8G95</td>\n",
       "      <td>1.000000</td>\n",
       "    </tr>\n",
       "  </tbody>\n",
       "</table>\n",
       "</div>"
      ],
      "text/plain": [
       "       reviewerID  trustedness\n",
       "0  A17A1KTVI3DG6U     3.047815\n",
       "1  A36C867ZDP30NQ     2.000000\n",
       "2   A5MC7LP0ZBO4Q     0.000000\n",
       "3  A2DG65AWX5RJ4J     0.666667\n",
       "4  A2IZ3ST24HSO4H     0.000000\n",
       "5   ACWJDL1ZYX8RE     0.833333\n",
       "6  A3AOPVQ7EZHTWA     7.267545\n",
       "7  A3LOJ2QHXITCF7     0.000000\n",
       "8  A2CARFAX5FNQT9     0.833333\n",
       "9   AX11NOUMV8G95     1.000000"
      ]
     },
     "execution_count": 10,
     "metadata": {},
     "output_type": "execute_result"
    }
   ],
   "source": [
    "%load modules/scripts/Trusted\\ user\\ groups.py"
   ]
  }
 ],
 "metadata": {
  "kernelspec": {
   "display_name": "Python 2",
   "language": "python",
   "name": "python2"
  },
  "language_info": {
   "codemirror_mode": {
    "name": "ipython",
    "version": 2
   },
   "file_extension": ".py",
   "mimetype": "text/x-python",
   "name": "python",
   "nbconvert_exporter": "python",
   "pygments_lexer": "ipython2",
   "version": "2.7.13"
  }
 },
 "nbformat": 4,
 "nbformat_minor": 2
}
