{
 "cells": [
  {
   "cell_type": "markdown",
   "metadata": {},
   "source": [
    "# Trusted user groups - Babies!"
   ]
  },
  {
   "cell_type": "markdown",
   "metadata": {},
   "source": [
    "## Loading data"
   ]
  },
  {
   "cell_type": "code",
   "execution_count": 1,
   "metadata": {
    "collapsed": true
   },
   "outputs": [],
   "source": [
    "babies = spark.read.json('./data/raw_data/reviews_Baby_5.json.gz')"
   ]
  },
  {
   "cell_type": "markdown",
   "metadata": {},
   "source": [
    "## Extracting ranking components"
   ]
  },
  {
   "cell_type": "code",
   "execution_count": 2,
   "metadata": {
    "collapsed": true
   },
   "outputs": [],
   "source": [
    "reviews_per_reviewer = babies.groupBy('reviewerID').count()"
   ]
  },
  {
   "cell_type": "code",
   "execution_count": 3,
   "metadata": {
    "collapsed": true
   },
   "outputs": [],
   "source": [
    "from pyspark.sql.functions import col, udf, avg\n",
    "from pyspark.sql.types import DoubleType\n",
    "\n",
    "get_ratio = udf(lambda x: float(x[0])/(x[1] + 1), returnType=DoubleType())\n",
    "\n",
    "usefulness = (babies\n",
    "  .select('reviewerID', get_ratio(col('helpful')).alias('coeff'))\n",
    "  .groupBy('reviewerID')\n",
    "  .agg(avg(col('coeff')).alias('coeff')))"
   ]
  },
  {
   "cell_type": "markdown",
   "metadata": {},
   "source": [
    "## Computing rankings"
   ]
  },
  {
   "cell_type": "code",
   "execution_count": 4,
   "metadata": {
    "collapsed": true
   },
   "outputs": [],
   "source": [
    "rankings = (usefulness\n",
    "    .join(reviews_per_reviewer, 'reviewerID')\n",
    "    .select('reviewerID', (col('coeff') * col('count')).alias('rank'))\n",
    "    .filter(col('rank') > 1))"
   ]
  },
  {
   "cell_type": "code",
   "execution_count": 5,
   "metadata": {
    "collapsed": true
   },
   "outputs": [],
   "source": [
    "product = '097293751X'\n",
    "\n",
    "best_reviewers = (babies\n",
    "   .filter(col('asin') == product)\n",
    "   .join(rankings, 'reviewerID')\n",
    "   .select('rank', 'summary'))\n",
    "\n",
    "good_reviews = best_reviewers.filter(col('overall') > 3).sort('rank', ascending=False)\n",
    "\n",
    "bad_reviews = best_reviewers.filter(col('overall') <= 3).sort('rank', ascending=False)"
   ]
  },
  {
   "cell_type": "code",
   "execution_count": 6,
   "metadata": {
    "scrolled": false
   },
   "outputs": [
    {
     "name": "stdout",
     "output_type": "stream",
     "text": [
      "+------------------+---------------------------------------------+\n",
      "|rank              |summary                                      |\n",
      "+------------------+---------------------------------------------+\n",
      "|4.914285714285715 |Best for Tracking!                           |\n",
      "|2.439598997493734 |Helpful Reminder                             |\n",
      "|1.9666666666666666|Perfect for the working mom                  |\n",
      "|1.7999999999999998|Should be required for all new parents!      |\n",
      "|1.25              |Great for newborns                           |\n",
      "|1.1666666666666665|Compact and Easy way to record the milestones|\n",
      "+------------------+---------------------------------------------+\n",
      "\n"
     ]
    }
   ],
   "source": [
    "good_reviews.show(truncate=False)"
   ]
  },
  {
   "cell_type": "code",
   "execution_count": 7,
   "metadata": {},
   "outputs": [
    {
     "name": "stdout",
     "output_type": "stream",
     "text": [
      "+------------------+----------------------------------------------------------------+\n",
      "|rank              |summary                                                         |\n",
      "+------------------+----------------------------------------------------------------+\n",
      "|6.332768361581921 |Expensive and Somewhat Limited Format                           |\n",
      "|1.4333333333333331|This is fine ... but I haven't used it.                         |\n",
      "|1.1666666666666665|Needs clearer AM & PM                                           |\n",
      "|1.1333333333333333|It's ok, but I liked a regular weekly planner better for a baby.|\n",
      "+------------------+----------------------------------------------------------------+\n",
      "\n"
     ]
    }
   ],
   "source": [
    "bad_reviews.show(truncate=False)"
   ]
  }
 ],
 "metadata": {
  "kernelspec": {
   "display_name": "Python 2",
   "language": "python",
   "name": "python2"
  },
  "language_info": {
   "codemirror_mode": {
    "name": "ipython",
    "version": 2
   },
   "file_extension": ".py",
   "mimetype": "text/x-python",
   "name": "python",
   "nbconvert_exporter": "python",
   "pygments_lexer": "ipython2",
   "version": "2.7.13"
  }
 },
 "nbformat": 4,
 "nbformat_minor": 2
}
