{
 "cells": [
  {
   "cell_type": "markdown",
   "metadata": {},
   "source": [
    "# Trusted user groups - Babies!"
   ]
  },
  {
   "cell_type": "markdown",
   "metadata": {},
   "source": [
    "## Loading data"
   ]
  },
  {
   "cell_type": "code",
   "execution_count": 1,
   "metadata": {
    "collapsed": true
   },
   "outputs": [],
   "source": [
    "reviews = spark.read.json('./data/raw_data/reviews_Amazon_Instant_Video_5.json.gz')"
   ]
  },
  {
   "cell_type": "markdown",
   "metadata": {},
   "source": [
    "## Extracting ranking components"
   ]
  },
  {
   "cell_type": "code",
   "execution_count": 4,
   "metadata": {
    "collapsed": true
   },
   "outputs": [],
   "source": [
    "reviews_per_reviewer = reviews.groupBy('reviewerID').count()"
   ]
  },
  {
   "cell_type": "code",
   "execution_count": 2,
   "metadata": {
    "collapsed": true
   },
   "outputs": [],
   "source": [
    "from pyspark.sql.functions import col, udf, avg\n",
    "from pyspark.sql.types import DoubleType\n",
    "\n",
    "usefulness_ratio = udf(\n",
    "    lambda (useful, out_of): useful / float(out_of + 1), \n",
    "    returnType=DoubleType())\n",
    "\n",
    "usefulness = (reviews\n",
    "  .select('reviewerID', usefulness_ratio(col('helpful')).alias('usefulness'))\n",
    "  .groupBy('reviewerID')\n",
    "  .agg(avg(col('usefulness')).alias('usefulness')))"
   ]
  },
  {
   "cell_type": "markdown",
   "metadata": {},
   "source": [
    "## Computing rankings & visualizing the good and bad reviews from the most trusted users"
   ]
  },
  {
   "cell_type": "code",
   "execution_count": 5,
   "metadata": {},
   "outputs": [],
   "source": [
    "rankings = (usefulness\n",
    "    .join(reviews_per_reviewer, 'reviewerID')\n",
    "    .select('reviewerID', (col('usefulness') * col('count')).alias('rank'))\n",
    "    .filter(col('rank') > 1))"
   ]
  },
  {
   "cell_type": "code",
   "execution_count": 13,
   "metadata": {},
   "outputs": [],
   "source": [
    "most_reviewed_product = reviews.groupBy('asin').count().sort('count', ascending=False).take(1)[0][0]\n",
    "\n",
    "best_reviewers = (reviews\n",
    "   .filter(col('asin') == most_reviewed_product)\n",
    "   .join(rankings, 'reviewerID')\n",
    "   .select('rank', 'summary'))\n",
    "\n",
    "good_reviews = best_reviewers.filter(col('overall') > 3).sort('rank', ascending=False)\n",
    "\n",
    "bad_reviews = best_reviewers.filter(col('overall') <= 3).sort('rank', ascending=False)"
   ]
  },
  {
   "cell_type": "code",
   "execution_count": 18,
   "metadata": {
    "scrolled": false
   },
   "outputs": [
    {
     "data": {
      "text/html": [
       "<div>\n",
       "<style>\n",
       "    .dataframe thead tr:only-child th {\n",
       "        text-align: right;\n",
       "    }\n",
       "\n",
       "    .dataframe thead th {\n",
       "        text-align: left;\n",
       "    }\n",
       "\n",
       "    .dataframe tbody tr th {\n",
       "        vertical-align: top;\n",
       "    }\n",
       "</style>\n",
       "<table border=\"1\" class=\"dataframe\">\n",
       "  <thead>\n",
       "    <tr style=\"text-align: right;\">\n",
       "      <th></th>\n",
       "      <th>rank</th>\n",
       "      <th>summary</th>\n",
       "    </tr>\n",
       "  </thead>\n",
       "  <tbody>\n",
       "    <tr>\n",
       "      <th>0</th>\n",
       "      <td>21.467122</td>\n",
       "      <td>Heronymous</td>\n",
       "    </tr>\n",
       "    <tr>\n",
       "      <th>1</th>\n",
       "      <td>9.129708</td>\n",
       "      <td>Get Filming ~ We Can't Wait!</td>\n",
       "    </tr>\n",
       "    <tr>\n",
       "      <th>2</th>\n",
       "      <td>5.085658</td>\n",
       "      <td>Titus Welliver is perfect as Bosch!</td>\n",
       "    </tr>\n",
       "    <tr>\n",
       "      <th>3</th>\n",
       "      <td>5.020119</td>\n",
       "      <td>Grown up entertainment</td>\n",
       "    </tr>\n",
       "    <tr>\n",
       "      <th>4</th>\n",
       "      <td>4.499860</td>\n",
       "      <td>Looks like a great cop show</td>\n",
       "    </tr>\n",
       "    <tr>\n",
       "      <th>5</th>\n",
       "      <td>4.260714</td>\n",
       "      <td>Bosch</td>\n",
       "    </tr>\n",
       "    <tr>\n",
       "      <th>6</th>\n",
       "      <td>3.883211</td>\n",
       "      <td>Woah!</td>\n",
       "    </tr>\n",
       "    <tr>\n",
       "      <th>7</th>\n",
       "      <td>3.528111</td>\n",
       "      <td>As A Harry Bosch Fan in Michael Connolly Books...</td>\n",
       "    </tr>\n",
       "    <tr>\n",
       "      <th>8</th>\n",
       "      <td>3.512780</td>\n",
       "      <td>Best of the new Amazon Originals</td>\n",
       "    </tr>\n",
       "    <tr>\n",
       "      <th>9</th>\n",
       "      <td>3.455723</td>\n",
       "      <td>A Total Surprise - Very Well Done</td>\n",
       "    </tr>\n",
       "  </tbody>\n",
       "</table>\n",
       "</div>"
      ],
      "text/plain": [
       "        rank                                            summary\n",
       "0  21.467122                                         Heronymous\n",
       "1   9.129708                       Get Filming ~ We Can't Wait!\n",
       "2   5.085658                Titus Welliver is perfect as Bosch!\n",
       "3   5.020119                             Grown up entertainment\n",
       "4   4.499860                        Looks like a great cop show\n",
       "5   4.260714                                              Bosch\n",
       "6   3.883211                                              Woah!\n",
       "7   3.528111  As A Harry Bosch Fan in Michael Connolly Books...\n",
       "8   3.512780                   Best of the new Amazon Originals\n",
       "9   3.455723                  A Total Surprise - Very Well Done"
      ]
     },
     "execution_count": 18,
     "metadata": {},
     "output_type": "execute_result"
    }
   ],
   "source": [
    "good_reviews.toPandas().head(10)"
   ]
  },
  {
   "cell_type": "code",
   "execution_count": 19,
   "metadata": {},
   "outputs": [
    {
     "data": {
      "text/html": [
       "<div>\n",
       "<style>\n",
       "    .dataframe thead tr:only-child th {\n",
       "        text-align: right;\n",
       "    }\n",
       "\n",
       "    .dataframe thead th {\n",
       "        text-align: left;\n",
       "    }\n",
       "\n",
       "    .dataframe tbody tr th {\n",
       "        vertical-align: top;\n",
       "    }\n",
       "</style>\n",
       "<table border=\"1\" class=\"dataframe\">\n",
       "  <thead>\n",
       "    <tr style=\"text-align: right;\">\n",
       "      <th></th>\n",
       "      <th>rank</th>\n",
       "      <th>summary</th>\n",
       "    </tr>\n",
       "  </thead>\n",
       "  <tbody>\n",
       "    <tr>\n",
       "      <th>0</th>\n",
       "      <td>4.707372</td>\n",
       "      <td>NO</td>\n",
       "    </tr>\n",
       "    <tr>\n",
       "      <th>1</th>\n",
       "      <td>3.416667</td>\n",
       "      <td>Okay</td>\n",
       "    </tr>\n",
       "    <tr>\n",
       "      <th>2</th>\n",
       "      <td>3.274638</td>\n",
       "      <td>Liked it but would not look for it</td>\n",
       "    </tr>\n",
       "    <tr>\n",
       "      <th>3</th>\n",
       "      <td>3.190476</td>\n",
       "      <td>Very dissapointing</td>\n",
       "    </tr>\n",
       "    <tr>\n",
       "      <th>4</th>\n",
       "      <td>2.880392</td>\n",
       "      <td>THIS BOSCH POWER TOOL\"s BATTERY NEEDS CCHARGING</td>\n",
       "    </tr>\n",
       "    <tr>\n",
       "      <th>5</th>\n",
       "      <td>2.766667</td>\n",
       "      <td>Slow, boring, cliched</td>\n",
       "    </tr>\n",
       "    <tr>\n",
       "      <th>6</th>\n",
       "      <td>2.119048</td>\n",
       "      <td>Meh, part good, part bad</td>\n",
       "    </tr>\n",
       "    <tr>\n",
       "      <th>7</th>\n",
       "      <td>2.058974</td>\n",
       "      <td>Liked it , Just way way too many cop shows alr...</td>\n",
       "    </tr>\n",
       "    <tr>\n",
       "      <th>8</th>\n",
       "      <td>2.000000</td>\n",
       "      <td>Typical Detective Show</td>\n",
       "    </tr>\n",
       "    <tr>\n",
       "      <th>9</th>\n",
       "      <td>1.890756</td>\n",
       "      <td>The books are compelling, but this series isn't.</td>\n",
       "    </tr>\n",
       "  </tbody>\n",
       "</table>\n",
       "</div>"
      ],
      "text/plain": [
       "       rank                                            summary\n",
       "0  4.707372                                                 NO\n",
       "1  3.416667                                               Okay\n",
       "2  3.274638                 Liked it but would not look for it\n",
       "3  3.190476                                 Very dissapointing\n",
       "4  2.880392    THIS BOSCH POWER TOOL\"s BATTERY NEEDS CCHARGING\n",
       "5  2.766667                              Slow, boring, cliched\n",
       "6  2.119048                           Meh, part good, part bad\n",
       "7  2.058974  Liked it , Just way way too many cop shows alr...\n",
       "8  2.000000                             Typical Detective Show\n",
       "9  1.890756   The books are compelling, but this series isn't."
      ]
     },
     "execution_count": 19,
     "metadata": {},
     "output_type": "execute_result"
    }
   ],
   "source": [
    "bad_reviews.toPandas().head(10)"
   ]
  }
 ],
 "metadata": {
  "kernelspec": {
   "display_name": "Python 2",
   "language": "python",
   "name": "python2"
  },
  "language_info": {
   "codemirror_mode": {
    "name": "ipython",
    "version": 2
   },
   "file_extension": ".py",
   "mimetype": "text/x-python",
   "name": "python",
   "nbconvert_exporter": "python",
   "pygments_lexer": "ipython2",
   "version": "2.7.13"
  }
 },
 "nbformat": 4,
 "nbformat_minor": 2
}
