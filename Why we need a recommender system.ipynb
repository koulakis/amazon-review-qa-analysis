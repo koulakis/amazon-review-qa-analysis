{
 "cells": [
  {
   "cell_type": "code",
   "execution_count": null,
   "metadata": {
    "collapsed": true
   },
   "outputs": [],
   "source": [
    "reviews = (spark\n",
    "    .read\n",
    "    .json('./data/raw_data/reviews_Musical_Instruments_5.json.gz'))"
   ]
  },
  {
   "cell_type": "code",
   "execution_count": 1,
   "metadata": {
    "collapsed": true
   },
   "outputs": [],
   "source": [
    "metadata = (spark\n",
    "    .read\n",
    "    .json('./data/metadata/meta_Musical_Instruments.json.gz')\n",
    "    .filter('''\n",
    "        categories is not null \n",
    "        and related is not null'''))"
   ]
  },
  {
   "cell_type": "code",
   "execution_count": 2,
   "metadata": {},
   "outputs": [
    {
     "ename": "NameError",
     "evalue": "name 'reviews' is not defined",
     "output_type": "error",
     "traceback": [
      "\u001b[0;31m---------------------------------------------------------------------------\u001b[0m",
      "\u001b[0;31mNameError\u001b[0m                                 Traceback (most recent call last)",
      "\u001b[0;32m<ipython-input-2-87cbaf399dcb>\u001b[0m in \u001b[0;36m<module>\u001b[0;34m()\u001b[0m\n\u001b[0;32m----> 1\u001b[0;31m \u001b[0mproduct_list\u001b[0m \u001b[0;34m=\u001b[0m \u001b[0mreviews\u001b[0m\u001b[0;34m.\u001b[0m\u001b[0mgroupBy\u001b[0m\u001b[0;34m(\u001b[0m\u001b[0;34m'asin'\u001b[0m\u001b[0;34m)\u001b[0m\u001b[0;34m.\u001b[0m\u001b[0mcount\u001b[0m\u001b[0;34m(\u001b[0m\u001b[0;34m)\u001b[0m\u001b[0;34m\u001b[0m\u001b[0m\n\u001b[0m\u001b[1;32m      2\u001b[0m \u001b[0mproduct_list\u001b[0m\u001b[0;34m.\u001b[0m\u001b[0msort\u001b[0m\u001b[0;34m(\u001b[0m\u001b[0;34m'count'\u001b[0m\u001b[0;34m,\u001b[0m \u001b[0mascending\u001b[0m \u001b[0;34m=\u001b[0m \u001b[0mFalse\u001b[0m\u001b[0;34m)\u001b[0m\u001b[0;34m.\u001b[0m\u001b[0mtoPandas\u001b[0m\u001b[0;34m(\u001b[0m\u001b[0;34m)\u001b[0m\u001b[0;34m.\u001b[0m\u001b[0mhead\u001b[0m\u001b[0;34m(\u001b[0m\u001b[0;36m10\u001b[0m\u001b[0;34m)\u001b[0m\u001b[0;34m\u001b[0m\u001b[0m\n",
      "\u001b[0;31mNameError\u001b[0m: name 'reviews' is not defined"
     ]
    }
   ],
   "source": [
    "product_list = reviews.groupBy('asin').count()\n",
    "product_list.sort('count', ascending = False).toPandas().head(10)"
   ]
  },
  {
   "cell_type": "code",
   "execution_count": null,
   "metadata": {
    "collapsed": true
   },
   "outputs": [],
   "source": [
    "reviews_per_reviewer = reviews.groupBy('reviewerID').count()"
   ]
  },
  {
   "cell_type": "code",
   "execution_count": null,
   "metadata": {
    "collapsed": true
   },
   "outputs": [],
   "source": [
    "from pyspark.sql.functions import col, udf, avg\n",
    "from pyspark.sql.types import DoubleType\n",
    "\n",
    "usefulness_ratio = udf(\n",
    "    lambda (useful, out_of): useful / float(out_of + 1), \n",
    "    returnType=DoubleType())\n",
    "\n",
    "usefulness = (reviews\n",
    "  .select('reviewerID', usefulness_ratio(col('helpful')).alias('usefulness'))\n",
    "  .groupBy('reviewerID')\n",
    "  .agg(avg(col('usefulness')).alias('usefulness')))"
   ]
  },
  {
   "cell_type": "code",
   "execution_count": null,
   "metadata": {
    "collapsed": true
   },
   "outputs": [],
   "source": [
    "rankings = (usefulness\n",
    "    .join(reviews_per_reviewer, 'reviewerID')\n",
    "    .select('reviewerID', (col('usefulness') * col('count')).alias('rank'))\n",
    "    .filter(col('rank') > 1))"
   ]
  },
  {
   "cell_type": "code",
   "execution_count": null,
   "metadata": {
    "collapsed": true
   },
   "outputs": [],
   "source": [
    "most_reviewed_product = reviews.groupBy('asin').count().sort('count', ascending=False).take(1)[0][0]\n",
    "\n",
    "best_reviewers = (reviews\n",
    "   .filter(col('asin') == most_reviewed_product)\n",
    "   .join(rankings, 'reviewerID')\n",
    "   .select('asin', 'reviewerID', 'rank', 'summary'))\n",
    "\n",
    "good_reviews = best_reviewers.filter(col('overall') > 3).sort('rank', ascending=False)\n",
    "\n",
    "bad_reviews = best_reviewers.filter(col('overall') <= 3).sort('rank', ascending=False)"
   ]
  },
  {
   "cell_type": "code",
   "execution_count": null,
   "metadata": {
    "collapsed": true
   },
   "outputs": [],
   "source": [
    "bad_reviews.toPandas().head(10)"
   ]
  },
  {
   "cell_type": "code",
   "execution_count": null,
   "metadata": {
    "collapsed": true
   },
   "outputs": [],
   "source": [
    "meta.toPandas().head(10"
   ]
  },
  {
   "cell_type": "code",
   "execution_count": null,
   "metadata": {
    "collapsed": true
   },
   "outputs": [],
   "source": [
    "meta_with_related = meta.filter('related is not null')"
   ]
  },
  {
   "cell_type": "code",
   "execution_count": null,
   "metadata": {
    "collapsed": true
   },
   "outputs": [],
   "source": [
    "from pyspark.sql.functions import udf, col\n",
    "\n",
    "last = udf(lambda categories: categories[0][-1])\n",
    "\n",
    "product_to_category = meta.select('asin', last(col('categories')).alias('category'))"
   ]
  },
  {
   "cell_type": "code",
   "execution_count": null,
   "metadata": {
    "collapsed": true
   },
   "outputs": [],
   "source": [
    "product_to_category.filter('asin = \"0006428320\"').show()"
   ]
  },
  {
   "cell_type": "code",
   "execution_count": null,
   "metadata": {
    "collapsed": true
   },
   "outputs": [],
   "source": [
    "sheet_music_folders = (product_to_category\n",
    " .sort('category', acending=False)\n",
    " .limit(90000)\n",
    "#  .filter(col('category') == 'Sheet Music Folders')\n",
    ")\n",
    "sheet_music_folders.count()"
   ]
  },
  {
   "cell_type": "code",
   "execution_count": null,
   "metadata": {
    "collapsed": true
   },
   "outputs": [],
   "source": [
    "saddles = product_to_category.sort('category', ascending=False).limit(90000).filter('category = \"Saddles\"').select('asin')"
   ]
  },
  {
   "cell_type": "code",
   "execution_count": null,
   "metadata": {
    "collapsed": true
   },
   "outputs": [],
   "source": [
    "reviews.join(saddles, reviews.asin == saddles.asin).count()"
   ]
  },
  {
   "cell_type": "code",
   "execution_count": null,
   "metadata": {
    "collapsed": true
   },
   "outputs": [],
   "source": [
    "reviews.groupBy('reviewerID').count().sort('count', ascending= False).show()"
   ]
  },
  {
   "cell_type": "code",
   "execution_count": null,
   "metadata": {
    "collapsed": true
   },
   "outputs": [],
   "source": [
    "reviews.select('asin').distinct().count()"
   ]
  },
  {
   "cell_type": "code",
   "execution_count": null,
   "metadata": {
    "collapsed": true
   },
   "outputs": [],
   "source": [
    "print(meta.select('asin').distinct().count())\n",
    "print(reviews.count())"
   ]
  },
  {
   "cell_type": "code",
   "execution_count": null,
   "metadata": {
    "collapsed": true
   },
   "outputs": [],
   "source": [
    "products = reviews.select(col('asin').alias('asin2')).distinct()\n",
    "refined_dictionary = (products \n",
    " .join(sheet_music_folders, products.asin2 == sheet_music_folders.asin)\n",
    " .select('asin', 'category'))"
   ]
  },
  {
   "cell_type": "code",
   "execution_count": null,
   "metadata": {
    "collapsed": true
   },
   "outputs": [],
   "source": [
    "refined_dictionary.show()"
   ]
  },
  {
   "cell_type": "code",
   "execution_count": null,
   "metadata": {
    "collapsed": true
   },
   "outputs": [],
   "source": [
    "meta.select('asin', col('related'))"
   ]
  },
  {
   "cell_type": "code",
   "execution_count": null,
   "metadata": {
    "collapsed": true
   },
   "outputs": [],
   "source": [
    "\n",
    "\n",
    "products_in_same_subcategory = meta.select('asin', same_category(col('related'), col('asin')))"
   ]
  },
  {
   "cell_type": "code",
   "execution_count": null,
   "metadata": {
    "collapsed": true
   },
   "outputs": [],
   "source": [
    "# find related products from meta data\n",
    "\n",
    "related_reviews = (meta\n",
    "   .filter(col('asin') == 'B0002E1G5C')\n",
    "   .select('related'))\n",
    "related_reviews.show(truncate = False)"
   ]
  },
  {
   "cell_type": "code",
   "execution_count": null,
   "metadata": {
    "collapsed": true
   },
   "outputs": [],
   "source": [
    "# extract the category of the products\n",
    "\n",
    "categories = (meta\n",
    "   .filter(col('asin') == 'B0002E1G5C')\n",
    "   .select('categories'))\n",
    "categories.show(truncate = False)"
   ]
  }
 ],
 "metadata": {
  "kernelspec": {
   "display_name": "Python 2",
   "language": "python",
   "name": "python2"
  },
  "language_info": {
   "codemirror_mode": {
    "name": "ipython",
    "version": 2
   },
   "file_extension": ".py",
   "mimetype": "text/x-python",
   "name": "python",
   "nbconvert_exporter": "python",
   "pygments_lexer": "ipython2",
   "version": "2.7.13"
  }
 },
 "nbformat": 4,
 "nbformat_minor": 2
}
